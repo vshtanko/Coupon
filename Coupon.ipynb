{
 "cells": [
  {
   "cell_type": "code",
   "execution_count": 1,
   "metadata": {
    "collapsed": false
   },
   "outputs": [],
   "source": [
    "%matplotlib inline\n",
    "import pandas as pd\n",
    "import numpy as np\n",
    "import matplotlib.pyplot as plt\n",
    "import sqlite3 as dbase\n",
    "pd.set_option('display.max_columns', 500)\n",
    "pd.set_option('display.width', 1000)"
   ]
  },
  {
   "cell_type": "code",
   "execution_count": 2,
   "metadata": {
    "collapsed": true
   },
   "outputs": [],
   "source": [
    "conn = dbase.connect('coupon.lite')\n",
    "cur = conn.cursor()"
   ]
  },
  {
   "cell_type": "code",
   "execution_count": null,
   "metadata": {
    "collapsed": true
   },
   "outputs": [],
   "source": [
    "\"\"\"\n",
    "To-do list: \n",
    "1) SQLization for SQL practice \n",
    "2) Translate all japanese to English \n",
    "3) Whether people buy coupons only in their geographical area\n",
    "4) Implementation of data factory system - exploration, transformation, modelling\n",
    "5) See what coupons (in what area) user browses, to determing list of his interests\n",
    "6) Add new column to coupons from logs showing how many coupons where bought \n",
    "7) See whether people buy coupons not from their region and how often\n",
    "8) Translate japanese area names into English and place skript to Kaggle\n",
    "9) Referrer list is strange\n",
    "\"\"\""
   ]
  },
  {
   "cell_type": "code",
   "execution_count": 6,
   "metadata": {
    "collapsed": true
   },
   "outputs": [],
   "source": [
    "coupon_list_test = pd.read_csv('coupon_list_test.csv')"
   ]
  },
  {
   "cell_type": "code",
   "execution_count": 9,
   "metadata": {
    "collapsed": false
   },
   "outputs": [
    {
     "data": {
      "text/html": [
       "<div style=\"max-height:1000px;max-width:1500px;overflow:auto;\">\n",
       "<table border=\"1\" class=\"dataframe\">\n",
       "  <thead>\n",
       "    <tr style=\"text-align: right;\">\n",
       "      <th></th>\n",
       "      <th>CAPSULE_TEXT</th>\n",
       "      <th>GENRE_NAME</th>\n",
       "      <th>PRICE_RATE</th>\n",
       "      <th>CATALOG_PRICE</th>\n",
       "      <th>DISCOUNT_PRICE</th>\n",
       "      <th>DISPFROM</th>\n",
       "      <th>DISPEND</th>\n",
       "      <th>DISPPERIOD</th>\n",
       "      <th>VALIDFROM</th>\n",
       "      <th>VALIDEND</th>\n",
       "      <th>VALIDPERIOD</th>\n",
       "      <th>USABLE_DATE_MON</th>\n",
       "      <th>USABLE_DATE_TUE</th>\n",
       "      <th>USABLE_DATE_WED</th>\n",
       "      <th>USABLE_DATE_THU</th>\n",
       "      <th>USABLE_DATE_FRI</th>\n",
       "      <th>USABLE_DATE_SAT</th>\n",
       "      <th>USABLE_DATE_SUN</th>\n",
       "      <th>USABLE_DATE_HOLIDAY</th>\n",
       "      <th>USABLE_DATE_BEFORE_HOLIDAY</th>\n",
       "      <th>large_area_name</th>\n",
       "      <th>ken_name</th>\n",
       "      <th>small_area_name</th>\n",
       "      <th>COUPON_ID_hash</th>\n",
       "    </tr>\n",
       "  </thead>\n",
       "  <tbody>\n",
       "    <tr>\n",
       "      <th>0</th>\n",
       "      <td> グルメ</td>\n",
       "      <td> グルメ</td>\n",
       "      <td> 52</td>\n",
       "      <td>  5659</td>\n",
       "      <td> 2690</td>\n",
       "      <td> 2012-06-26 12:00:00</td>\n",
       "      <td> 2012-06-30 12:00:00</td>\n",
       "      <td> 4</td>\n",
       "      <td> 2012-07-01</td>\n",
       "      <td> 2012-10-27</td>\n",
       "      <td> 118</td>\n",
       "      <td> 1</td>\n",
       "      <td> 1</td>\n",
       "      <td> 1</td>\n",
       "      <td> 1</td>\n",
       "      <td> 1</td>\n",
       "      <td> 1</td>\n",
       "      <td> 1</td>\n",
       "      <td> 1</td>\n",
       "      <td> 1</td>\n",
       "      <td> 関西</td>\n",
       "      <td>  大阪府</td>\n",
       "      <td>        ミナミ他</td>\n",
       "      <td> c76ea297ebd3a5a4d3bf9f75269f66fa</td>\n",
       "    </tr>\n",
       "    <tr>\n",
       "      <th>1</th>\n",
       "      <td> グルメ</td>\n",
       "      <td> グルメ</td>\n",
       "      <td> 52</td>\n",
       "      <td> 18000</td>\n",
       "      <td> 8500</td>\n",
       "      <td> 2012-06-27 12:00:00</td>\n",
       "      <td> 2012-07-04 12:00:00</td>\n",
       "      <td> 7</td>\n",
       "      <td> 2012-07-05</td>\n",
       "      <td> 2012-10-13</td>\n",
       "      <td> 100</td>\n",
       "      <td> 1</td>\n",
       "      <td> 1</td>\n",
       "      <td> 1</td>\n",
       "      <td> 1</td>\n",
       "      <td> 1</td>\n",
       "      <td> 1</td>\n",
       "      <td> 0</td>\n",
       "      <td> 0</td>\n",
       "      <td> 1</td>\n",
       "      <td> 関東</td>\n",
       "      <td>  東京都</td>\n",
       "      <td> 銀座・新橋・東京・上野</td>\n",
       "      <td> dd74dc95ca294afa02db40a543ae1763</td>\n",
       "    </tr>\n",
       "    <tr>\n",
       "      <th>2</th>\n",
       "      <td> グルメ</td>\n",
       "      <td> グルメ</td>\n",
       "      <td> 51</td>\n",
       "      <td>  7200</td>\n",
       "      <td> 3480</td>\n",
       "      <td> 2012-06-28 12:00:00</td>\n",
       "      <td> 2012-07-05 12:00:00</td>\n",
       "      <td> 7</td>\n",
       "      <td> 2012-07-06</td>\n",
       "      <td> 2012-12-28</td>\n",
       "      <td> 175</td>\n",
       "      <td> 1</td>\n",
       "      <td> 1</td>\n",
       "      <td> 1</td>\n",
       "      <td> 1</td>\n",
       "      <td> 1</td>\n",
       "      <td> 1</td>\n",
       "      <td> 1</td>\n",
       "      <td> 1</td>\n",
       "      <td> 1</td>\n",
       "      <td> 関東</td>\n",
       "      <td> 神奈川県</td>\n",
       "      <td>          横浜</td>\n",
       "      <td> c65b550cbef918796ad53b1d5b7165c1</td>\n",
       "    </tr>\n",
       "    <tr>\n",
       "      <th>3</th>\n",
       "      <td> グルメ</td>\n",
       "      <td> グルメ</td>\n",
       "      <td> 50</td>\n",
       "      <td>  3300</td>\n",
       "      <td> 1650</td>\n",
       "      <td> 2012-06-24 12:00:00</td>\n",
       "      <td> 2012-06-29 12:00:00</td>\n",
       "      <td> 5</td>\n",
       "      <td> 2012-06-30</td>\n",
       "      <td> 2012-10-31</td>\n",
       "      <td> 123</td>\n",
       "      <td> 1</td>\n",
       "      <td> 1</td>\n",
       "      <td> 1</td>\n",
       "      <td> 1</td>\n",
       "      <td> 2</td>\n",
       "      <td> 2</td>\n",
       "      <td> 1</td>\n",
       "      <td> 1</td>\n",
       "      <td> 2</td>\n",
       "      <td> 関西</td>\n",
       "      <td>  兵庫県</td>\n",
       "      <td>          兵庫</td>\n",
       "      <td> f93dc6e223935d817e1237f8f73b56a2</td>\n",
       "    </tr>\n",
       "    <tr>\n",
       "      <th>4</th>\n",
       "      <td> グルメ</td>\n",
       "      <td> グルメ</td>\n",
       "      <td> 56</td>\n",
       "      <td>  3650</td>\n",
       "      <td> 1600</td>\n",
       "      <td> 2012-06-26 12:00:00</td>\n",
       "      <td> 2012-07-03 12:00:00</td>\n",
       "      <td> 7</td>\n",
       "      <td> 2012-07-04</td>\n",
       "      <td> 2012-11-10</td>\n",
       "      <td> 129</td>\n",
       "      <td> 1</td>\n",
       "      <td> 1</td>\n",
       "      <td> 1</td>\n",
       "      <td> 1</td>\n",
       "      <td> 1</td>\n",
       "      <td> 1</td>\n",
       "      <td> 1</td>\n",
       "      <td> 1</td>\n",
       "      <td> 1</td>\n",
       "      <td> 東海</td>\n",
       "      <td>  愛知県</td>\n",
       "      <td>          愛知</td>\n",
       "      <td> 86c64391318f1d751647bf8e1882cf1d</td>\n",
       "    </tr>\n",
       "  </tbody>\n",
       "</table>\n",
       "</div>"
      ],
      "text/plain": [
       "  CAPSULE_TEXT GENRE_NAME  PRICE_RATE  CATALOG_PRICE  DISCOUNT_PRICE             DISPFROM              DISPEND  DISPPERIOD   VALIDFROM    VALIDEND  VALIDPERIOD  USABLE_DATE_MON  USABLE_DATE_TUE  USABLE_DATE_WED  USABLE_DATE_THU  USABLE_DATE_FRI  USABLE_DATE_SAT  USABLE_DATE_SUN  USABLE_DATE_HOLIDAY  USABLE_DATE_BEFORE_HOLIDAY large_area_name ken_name small_area_name                    COUPON_ID_hash\n",
       "0          グルメ        グルメ          52           5659            2690  2012-06-26 12:00:00  2012-06-30 12:00:00           4  2012-07-01  2012-10-27          118                1                1                1                1                1                1                1                    1                           1              関西      大阪府            ミナミ他  c76ea297ebd3a5a4d3bf9f75269f66fa\n",
       "1          グルメ        グルメ          52          18000            8500  2012-06-27 12:00:00  2012-07-04 12:00:00           7  2012-07-05  2012-10-13          100                1                1                1                1                1                1                0                    0                           1              関東      東京都     銀座・新橋・東京・上野  dd74dc95ca294afa02db40a543ae1763\n",
       "2          グルメ        グルメ          51           7200            3480  2012-06-28 12:00:00  2012-07-05 12:00:00           7  2012-07-06  2012-12-28          175                1                1                1                1                1                1                1                    1                           1              関東     神奈川県              横浜  c65b550cbef918796ad53b1d5b7165c1\n",
       "3          グルメ        グルメ          50           3300            1650  2012-06-24 12:00:00  2012-06-29 12:00:00           5  2012-06-30  2012-10-31          123                1                1                1                1                2                2                1                    1                           2              関西      兵庫県              兵庫  f93dc6e223935d817e1237f8f73b56a2\n",
       "4          グルメ        グルメ          56           3650            1600  2012-06-26 12:00:00  2012-07-03 12:00:00           7  2012-07-04  2012-11-10          129                1                1                1                1                1                1                1                    1                           1              東海      愛知県              愛知  86c64391318f1d751647bf8e1882cf1d"
      ]
     },
     "execution_count": 9,
     "metadata": {},
     "output_type": "execute_result"
    }
   ],
   "source": [
    "coupon_list_test.head()"
   ]
  },
  {
   "cell_type": "code",
   "execution_count": 12,
   "metadata": {
    "collapsed": false
   },
   "outputs": [
    {
     "data": {
      "text/plain": [
       "(310, 24)"
      ]
     },
     "execution_count": 12,
     "metadata": {},
     "output_type": "execute_result"
    }
   ],
   "source": [
    "coupon_list_test.shape"
   ]
  },
  {
   "cell_type": "code",
   "execution_count": 10,
   "metadata": {
    "collapsed": true
   },
   "outputs": [],
   "source": [
    "user_list = pd.read_csv('user_list.csv')"
   ]
  },
  {
   "cell_type": "code",
   "execution_count": 33,
   "metadata": {
    "collapsed": false
   },
   "outputs": [
    {
     "data": {
      "text/html": [
       "<div style=\"max-height:1000px;max-width:1500px;overflow:auto;\">\n",
       "<table border=\"1\" class=\"dataframe\">\n",
       "  <thead>\n",
       "    <tr style=\"text-align: right;\">\n",
       "      <th></th>\n",
       "      <th>REG_DATE</th>\n",
       "      <th>SEX_ID</th>\n",
       "      <th>AGE</th>\n",
       "      <th>WITHDRAW_DATE</th>\n",
       "      <th>PREF_NAME</th>\n",
       "      <th>USER_ID_hash</th>\n",
       "    </tr>\n",
       "  </thead>\n",
       "  <tbody>\n",
       "    <tr>\n",
       "      <th>0</th>\n",
       "      <td> 2012-03-28 14:14:18</td>\n",
       "      <td> f</td>\n",
       "      <td> 25</td>\n",
       "      <td> NaN</td>\n",
       "      <td>  NaN</td>\n",
       "      <td> d9dca3cb44bab12ba313eaa681f663eb</td>\n",
       "    </tr>\n",
       "    <tr>\n",
       "      <th>1</th>\n",
       "      <td> 2011-05-18 00:41:48</td>\n",
       "      <td> f</td>\n",
       "      <td> 34</td>\n",
       "      <td> NaN</td>\n",
       "      <td>  東京都</td>\n",
       "      <td> 560574a339f1b25e57b0221e486907ed</td>\n",
       "    </tr>\n",
       "    <tr>\n",
       "      <th>2</th>\n",
       "      <td> 2011-06-13 16:36:58</td>\n",
       "      <td> m</td>\n",
       "      <td> 41</td>\n",
       "      <td> NaN</td>\n",
       "      <td>  愛知県</td>\n",
       "      <td> e66ae91b978b3229f8fd858c80615b73</td>\n",
       "    </tr>\n",
       "    <tr>\n",
       "      <th>3</th>\n",
       "      <td> 2012-02-08 12:56:15</td>\n",
       "      <td> m</td>\n",
       "      <td> 25</td>\n",
       "      <td> NaN</td>\n",
       "      <td>  NaN</td>\n",
       "      <td> 43fc18f32eafb05713ec02935e2c2825</td>\n",
       "    </tr>\n",
       "    <tr>\n",
       "      <th>4</th>\n",
       "      <td> 2011-05-22 23:43:56</td>\n",
       "      <td> m</td>\n",
       "      <td> 62</td>\n",
       "      <td> NaN</td>\n",
       "      <td> 神奈川県</td>\n",
       "      <td> dc6df8aa860f8db0d710ce9d4839840f</td>\n",
       "    </tr>\n",
       "  </tbody>\n",
       "</table>\n",
       "</div>"
      ],
      "text/plain": [
       "              REG_DATE SEX_ID  AGE WITHDRAW_DATE PREF_NAME                      USER_ID_hash\n",
       "0  2012-03-28 14:14:18      f   25           NaN       NaN  d9dca3cb44bab12ba313eaa681f663eb\n",
       "1  2011-05-18 00:41:48      f   34           NaN       東京都  560574a339f1b25e57b0221e486907ed\n",
       "2  2011-06-13 16:36:58      m   41           NaN       愛知県  e66ae91b978b3229f8fd858c80615b73\n",
       "3  2012-02-08 12:56:15      m   25           NaN       NaN  43fc18f32eafb05713ec02935e2c2825\n",
       "4  2011-05-22 23:43:56      m   62           NaN      神奈川県  dc6df8aa860f8db0d710ce9d4839840f"
      ]
     },
     "execution_count": 33,
     "metadata": {},
     "output_type": "execute_result"
    }
   ],
   "source": [
    "user_list.head()"
   ]
  },
  {
   "cell_type": "code",
   "execution_count": 13,
   "metadata": {
    "collapsed": true
   },
   "outputs": [],
   "source": [
    "coupon_list_train = pd.read_csv('coupon_list_train.csv')"
   ]
  },
  {
   "cell_type": "code",
   "execution_count": 19,
   "metadata": {
    "collapsed": false
   },
   "outputs": [
    {
     "data": {
      "text/html": [
       "<div style=\"max-height:1000px;max-width:1500px;overflow:auto;\">\n",
       "<table border=\"1\" class=\"dataframe\">\n",
       "  <thead>\n",
       "    <tr style=\"text-align: right;\">\n",
       "      <th></th>\n",
       "      <th>CAPSULE_TEXT</th>\n",
       "      <th>GENRE_NAME</th>\n",
       "      <th>PRICE_RATE</th>\n",
       "      <th>CATALOG_PRICE</th>\n",
       "      <th>DISCOUNT_PRICE</th>\n",
       "      <th>DISPFROM</th>\n",
       "      <th>DISPEND</th>\n",
       "      <th>DISPPERIOD</th>\n",
       "      <th>VALIDFROM</th>\n",
       "      <th>VALIDEND</th>\n",
       "      <th>VALIDPERIOD</th>\n",
       "      <th>USABLE_DATE_MON</th>\n",
       "      <th>USABLE_DATE_TUE</th>\n",
       "      <th>USABLE_DATE_WED</th>\n",
       "      <th>USABLE_DATE_THU</th>\n",
       "      <th>USABLE_DATE_FRI</th>\n",
       "      <th>USABLE_DATE_SAT</th>\n",
       "      <th>USABLE_DATE_SUN</th>\n",
       "      <th>USABLE_DATE_HOLIDAY</th>\n",
       "      <th>USABLE_DATE_BEFORE_HOLIDAY</th>\n",
       "      <th>large_area_name</th>\n",
       "      <th>ken_name</th>\n",
       "      <th>small_area_name</th>\n",
       "      <th>COUPON_ID_hash</th>\n",
       "    </tr>\n",
       "  </thead>\n",
       "  <tbody>\n",
       "    <tr>\n",
       "      <th>1110</th>\n",
       "      <td>  宅配</td>\n",
       "      <td>       宅配</td>\n",
       "      <td> 50</td>\n",
       "      <td> 2350</td>\n",
       "      <td> 1175</td>\n",
       "      <td> 2011-07-18 12:00:00</td>\n",
       "      <td> 2011-07-19 12:00:00</td>\n",
       "      <td> 1</td>\n",
       "      <td>        NaN</td>\n",
       "      <td>        NaN</td>\n",
       "      <td> NaN</td>\n",
       "      <td>NaN</td>\n",
       "      <td>NaN</td>\n",
       "      <td>NaN</td>\n",
       "      <td>NaN</td>\n",
       "      <td>NaN</td>\n",
       "      <td>NaN</td>\n",
       "      <td>NaN</td>\n",
       "      <td>NaN</td>\n",
       "      <td>NaN</td>\n",
       "      <td>    関東</td>\n",
       "      <td>  東京都</td>\n",
       "      <td>    銀座・新橋・東京・上野</td>\n",
       "      <td> b93f8a8f5c62fc5a998cf1ff16456e9c</td>\n",
       "    </tr>\n",
       "    <tr>\n",
       "      <th>1111</th>\n",
       "      <td> グルメ</td>\n",
       "      <td>      グルメ</td>\n",
       "      <td> 50</td>\n",
       "      <td> 2980</td>\n",
       "      <td> 1490</td>\n",
       "      <td> 2011-07-12 12:00:00</td>\n",
       "      <td> 2011-07-15 12:00:00</td>\n",
       "      <td> 3</td>\n",
       "      <td> 2011-07-18</td>\n",
       "      <td> 2011-11-30</td>\n",
       "      <td> 135</td>\n",
       "      <td>  1</td>\n",
       "      <td>  0</td>\n",
       "      <td>  1</td>\n",
       "      <td>  1</td>\n",
       "      <td>  1</td>\n",
       "      <td>  1</td>\n",
       "      <td>  1</td>\n",
       "      <td>  1</td>\n",
       "      <td>  1</td>\n",
       "      <td>    関東</td>\n",
       "      <td>  東京都</td>\n",
       "      <td> 新宿・高田馬場・中野・吉祥寺</td>\n",
       "      <td> e1a3ebeb29638f63681af70bcc046ed3</td>\n",
       "    </tr>\n",
       "    <tr>\n",
       "      <th>1112</th>\n",
       "      <td> その他</td>\n",
       "      <td> その他のクーポン</td>\n",
       "      <td> 51</td>\n",
       "      <td> 2000</td>\n",
       "      <td>  980</td>\n",
       "      <td> 2011-07-12 12:00:00</td>\n",
       "      <td> 2011-07-14 12:00:00</td>\n",
       "      <td> 2</td>\n",
       "      <td> 2011-07-15</td>\n",
       "      <td> 2011-09-30</td>\n",
       "      <td>  77</td>\n",
       "      <td>NaN</td>\n",
       "      <td>NaN</td>\n",
       "      <td>NaN</td>\n",
       "      <td>NaN</td>\n",
       "      <td>NaN</td>\n",
       "      <td>NaN</td>\n",
       "      <td>NaN</td>\n",
       "      <td>NaN</td>\n",
       "      <td>NaN</td>\n",
       "      <td>    関西</td>\n",
       "      <td> 和歌山県</td>\n",
       "      <td>            和歌山</td>\n",
       "      <td> 203424cb783c46c0533d701d05d8e326</td>\n",
       "    </tr>\n",
       "    <tr>\n",
       "      <th>1113</th>\n",
       "      <td>  宅配</td>\n",
       "      <td>       宅配</td>\n",
       "      <td> 52</td>\n",
       "      <td> 4200</td>\n",
       "      <td> 2000</td>\n",
       "      <td> 2011-07-13 12:00:00</td>\n",
       "      <td> 2011-07-15 12:00:00</td>\n",
       "      <td> 2</td>\n",
       "      <td>        NaN</td>\n",
       "      <td>        NaN</td>\n",
       "      <td> NaN</td>\n",
       "      <td>NaN</td>\n",
       "      <td>NaN</td>\n",
       "      <td>NaN</td>\n",
       "      <td>NaN</td>\n",
       "      <td>NaN</td>\n",
       "      <td>NaN</td>\n",
       "      <td>NaN</td>\n",
       "      <td>NaN</td>\n",
       "      <td>NaN</td>\n",
       "      <td>    中国</td>\n",
       "      <td>  岡山県</td>\n",
       "      <td>             岡山</td>\n",
       "      <td> d3cdc0bce450fd5a26aab35d5f032c49</td>\n",
       "    </tr>\n",
       "    <tr>\n",
       "      <th>1114</th>\n",
       "      <td> グルメ</td>\n",
       "      <td>      グルメ</td>\n",
       "      <td> 50</td>\n",
       "      <td> 2500</td>\n",
       "      <td> 1250</td>\n",
       "      <td> 2011-07-15 12:00:00</td>\n",
       "      <td> 2011-07-18 12:00:00</td>\n",
       "      <td> 3</td>\n",
       "      <td> 2011-07-19</td>\n",
       "      <td> 2011-10-31</td>\n",
       "      <td> 104</td>\n",
       "      <td>  1</td>\n",
       "      <td>  1</td>\n",
       "      <td>  1</td>\n",
       "      <td>  1</td>\n",
       "      <td>  0</td>\n",
       "      <td>  0</td>\n",
       "      <td>  0</td>\n",
       "      <td>  0</td>\n",
       "      <td>  0</td>\n",
       "      <td> 九州・沖縄</td>\n",
       "      <td>  熊本県</td>\n",
       "      <td>             熊本</td>\n",
       "      <td> 43fa2c2542ac8fd3ba17c4ca97022931</td>\n",
       "    </tr>\n",
       "  </tbody>\n",
       "</table>\n",
       "</div>"
      ],
      "text/plain": [
       "     CAPSULE_TEXT GENRE_NAME  PRICE_RATE  CATALOG_PRICE  DISCOUNT_PRICE             DISPFROM              DISPEND  DISPPERIOD   VALIDFROM    VALIDEND  VALIDPERIOD  USABLE_DATE_MON  USABLE_DATE_TUE  USABLE_DATE_WED  USABLE_DATE_THU  USABLE_DATE_FRI  USABLE_DATE_SAT  USABLE_DATE_SUN  USABLE_DATE_HOLIDAY  USABLE_DATE_BEFORE_HOLIDAY large_area_name ken_name small_area_name                    COUPON_ID_hash\n",
       "1110           宅配         宅配          50           2350            1175  2011-07-18 12:00:00  2011-07-19 12:00:00           1         NaN         NaN          NaN              NaN              NaN              NaN              NaN              NaN              NaN              NaN                  NaN                         NaN              関東      東京都     銀座・新橋・東京・上野  b93f8a8f5c62fc5a998cf1ff16456e9c\n",
       "1111          グルメ        グルメ          50           2980            1490  2011-07-12 12:00:00  2011-07-15 12:00:00           3  2011-07-18  2011-11-30          135                1                0                1                1                1                1                1                    1                           1              関東      東京都  新宿・高田馬場・中野・吉祥寺  e1a3ebeb29638f63681af70bcc046ed3\n",
       "1112          その他   その他のクーポン          51           2000             980  2011-07-12 12:00:00  2011-07-14 12:00:00           2  2011-07-15  2011-09-30           77              NaN              NaN              NaN              NaN              NaN              NaN              NaN                  NaN                         NaN              関西     和歌山県             和歌山  203424cb783c46c0533d701d05d8e326\n",
       "1113           宅配         宅配          52           4200            2000  2011-07-13 12:00:00  2011-07-15 12:00:00           2         NaN         NaN          NaN              NaN              NaN              NaN              NaN              NaN              NaN              NaN                  NaN                         NaN              中国      岡山県              岡山  d3cdc0bce450fd5a26aab35d5f032c49\n",
       "1114          グルメ        グルメ          50           2500            1250  2011-07-15 12:00:00  2011-07-18 12:00:00           3  2011-07-19  2011-10-31          104                1                1                1                1                0                0                0                    0                           0           九州・沖縄      熊本県              熊本  43fa2c2542ac8fd3ba17c4ca97022931"
      ]
     },
     "execution_count": 19,
     "metadata": {},
     "output_type": "execute_result"
    }
   ],
   "source": [
    "coupon_list_train[1110:1115]"
   ]
  },
  {
   "cell_type": "code",
   "execution_count": 15,
   "metadata": {
    "collapsed": false
   },
   "outputs": [
    {
     "data": {
      "text/plain": [
       "(19413, 24)"
      ]
     },
     "execution_count": 15,
     "metadata": {},
     "output_type": "execute_result"
    }
   ],
   "source": [
    "coupon_list_train.shape"
   ]
  },
  {
   "cell_type": "code",
   "execution_count": 85,
   "metadata": {
    "collapsed": true
   },
   "outputs": [],
   "source": [
    "coupon_visit_train = pd.read_csv('coupon_visit_train.csv')"
   ]
  },
  {
   "cell_type": "code",
   "execution_count": 86,
   "metadata": {
    "collapsed": false
   },
   "outputs": [
    {
     "data": {
      "text/html": [
       "<div style=\"max-height:1000px;max-width:1500px;overflow:auto;\">\n",
       "<table border=\"1\" class=\"dataframe\">\n",
       "  <thead>\n",
       "    <tr style=\"text-align: right;\">\n",
       "      <th></th>\n",
       "      <th>PURCHASE_FLG</th>\n",
       "      <th>I_DATE</th>\n",
       "      <th>PAGE_SERIAL</th>\n",
       "      <th>REFERRER_hash</th>\n",
       "      <th>VIEW_COUPON_ID_hash</th>\n",
       "      <th>USER_ID_hash</th>\n",
       "      <th>SESSION_ID_hash</th>\n",
       "      <th>PURCHASEID_hash</th>\n",
       "    </tr>\n",
       "  </thead>\n",
       "  <tbody>\n",
       "    <tr>\n",
       "      <th>0</th>\n",
       "      <td> 0</td>\n",
       "      <td> 2012-03-28 14:15:00</td>\n",
       "      <td>  7</td>\n",
       "      <td> 7d3892e54acb559ae36c459978489330</td>\n",
       "      <td> 34c48f84026e08355dc3bd19b427f09a</td>\n",
       "      <td> d9dca3cb44bab12ba313eaa681f663eb</td>\n",
       "      <td> 673af822615593249e7c6a9a1a6bbb1a</td>\n",
       "      <td> NaN</td>\n",
       "    </tr>\n",
       "    <tr>\n",
       "      <th>1</th>\n",
       "      <td> 0</td>\n",
       "      <td> 2012-03-28 14:17:28</td>\n",
       "      <td>  9</td>\n",
       "      <td> 7d3892e54acb559ae36c459978489330</td>\n",
       "      <td> 34c48f84026e08355dc3bd19b427f09a</td>\n",
       "      <td> d9dca3cb44bab12ba313eaa681f663eb</td>\n",
       "      <td> 673af822615593249e7c6a9a1a6bbb1a</td>\n",
       "      <td> NaN</td>\n",
       "    </tr>\n",
       "    <tr>\n",
       "      <th>2</th>\n",
       "      <td> 0</td>\n",
       "      <td> 2012-03-28 14:20:05</td>\n",
       "      <td> 16</td>\n",
       "      <td> 7d3892e54acb559ae36c459978489330</td>\n",
       "      <td> 17c450c3b470c045d35ec22b02daa690</td>\n",
       "      <td> d9dca3cb44bab12ba313eaa681f663eb</td>\n",
       "      <td> 673af822615593249e7c6a9a1a6bbb1a</td>\n",
       "      <td> NaN</td>\n",
       "    </tr>\n",
       "    <tr>\n",
       "      <th>3</th>\n",
       "      <td> 0</td>\n",
       "      <td> 2012-03-28 14:23:16</td>\n",
       "      <td> 18</td>\n",
       "      <td> 7d3892e54acb559ae36c459978489330</td>\n",
       "      <td> 91a15e6a95d09e5e01b50747833b317d</td>\n",
       "      <td> d9dca3cb44bab12ba313eaa681f663eb</td>\n",
       "      <td> 673af822615593249e7c6a9a1a6bbb1a</td>\n",
       "      <td> NaN</td>\n",
       "    </tr>\n",
       "    <tr>\n",
       "      <th>4</th>\n",
       "      <td> 0</td>\n",
       "      <td> 2012-03-28 14:26:25</td>\n",
       "      <td> 20</td>\n",
       "      <td> 7d3892e54acb559ae36c459978489330</td>\n",
       "      <td> 96fcbc8f6e45d5a2de1661eb140c6e82</td>\n",
       "      <td> d9dca3cb44bab12ba313eaa681f663eb</td>\n",
       "      <td> 673af822615593249e7c6a9a1a6bbb1a</td>\n",
       "      <td> NaN</td>\n",
       "    </tr>\n",
       "  </tbody>\n",
       "</table>\n",
       "</div>"
      ],
      "text/plain": [
       "   PURCHASE_FLG               I_DATE  PAGE_SERIAL                     REFERRER_hash               VIEW_COUPON_ID_hash                      USER_ID_hash                   SESSION_ID_hash PURCHASEID_hash\n",
       "0             0  2012-03-28 14:15:00            7  7d3892e54acb559ae36c459978489330  34c48f84026e08355dc3bd19b427f09a  d9dca3cb44bab12ba313eaa681f663eb  673af822615593249e7c6a9a1a6bbb1a             NaN\n",
       "1             0  2012-03-28 14:17:28            9  7d3892e54acb559ae36c459978489330  34c48f84026e08355dc3bd19b427f09a  d9dca3cb44bab12ba313eaa681f663eb  673af822615593249e7c6a9a1a6bbb1a             NaN\n",
       "2             0  2012-03-28 14:20:05           16  7d3892e54acb559ae36c459978489330  17c450c3b470c045d35ec22b02daa690  d9dca3cb44bab12ba313eaa681f663eb  673af822615593249e7c6a9a1a6bbb1a             NaN\n",
       "3             0  2012-03-28 14:23:16           18  7d3892e54acb559ae36c459978489330  91a15e6a95d09e5e01b50747833b317d  d9dca3cb44bab12ba313eaa681f663eb  673af822615593249e7c6a9a1a6bbb1a             NaN\n",
       "4             0  2012-03-28 14:26:25           20  7d3892e54acb559ae36c459978489330  96fcbc8f6e45d5a2de1661eb140c6e82  d9dca3cb44bab12ba313eaa681f663eb  673af822615593249e7c6a9a1a6bbb1a             NaN"
      ]
     },
     "execution_count": 86,
     "metadata": {},
     "output_type": "execute_result"
    }
   ],
   "source": [
    "coupon_visit_train.head()"
   ]
  },
  {
   "cell_type": "code",
   "execution_count": 87,
   "metadata": {
    "collapsed": false
   },
   "outputs": [
    {
     "data": {
      "text/plain": [
       "Index(['PURCHASE_FLG', 'I_DATE', 'PAGE_SERIAL', 'REFERRER_hash', 'VIEW_COUPON_ID_hash', 'USER_ID_hash', 'SESSION_ID_hash', 'PURCHASEID_hash'], dtype='object')"
      ]
     },
     "execution_count": 87,
     "metadata": {},
     "output_type": "execute_result"
    }
   ],
   "source": [
    "coupon_visit_train.columns"
   ]
  },
  {
   "cell_type": "code",
   "execution_count": 40,
   "metadata": {
    "collapsed": false
   },
   "outputs": [
    {
     "data": {
      "text/plain": [
       "(123, 8)"
      ]
     },
     "execution_count": 40,
     "metadata": {},
     "output_type": "execute_result"
    }
   ],
   "source": [
    "coupon_visit_train[coupon_visit_train['USER_ID_hash'] == '560574a339f1b25e57b0221e486907ed'].shape"
   ]
  },
  {
   "cell_type": "code",
   "execution_count": 22,
   "metadata": {
    "collapsed": true
   },
   "outputs": [],
   "source": [
    "coupon_detail_train = pd.read_csv('coupon_detail_train.csv')"
   ]
  },
  {
   "cell_type": "code",
   "execution_count": 24,
   "metadata": {
    "collapsed": false
   },
   "outputs": [
    {
     "data": {
      "text/html": [
       "<div style=\"max-height:1000px;max-width:1500px;overflow:auto;\">\n",
       "<table border=\"1\" class=\"dataframe\">\n",
       "  <thead>\n",
       "    <tr style=\"text-align: right;\">\n",
       "      <th></th>\n",
       "      <th>ITEM_COUNT</th>\n",
       "      <th>I_DATE</th>\n",
       "      <th>SMALL_AREA_NAME</th>\n",
       "      <th>PURCHASEID_hash</th>\n",
       "      <th>USER_ID_hash</th>\n",
       "      <th>COUPON_ID_hash</th>\n",
       "    </tr>\n",
       "  </thead>\n",
       "  <tbody>\n",
       "    <tr>\n",
       "      <th>20</th>\n",
       "      <td> 1</td>\n",
       "      <td> 2012-05-21 19:41:41</td>\n",
       "      <td> 新宿・高田馬場・中野・吉祥寺</td>\n",
       "      <td> e47445e2f58d7e9c052aa05a75bf3cdd</td>\n",
       "      <td> 43fc18f32eafb05713ec02935e2c2825</td>\n",
       "      <td> bf69bd9e0e26fa1f62243d1fcada38f1</td>\n",
       "    </tr>\n",
       "    <tr>\n",
       "      <th>21</th>\n",
       "      <td> 1</td>\n",
       "      <td> 2012-06-04 21:39:42</td>\n",
       "      <td> 新宿・高田馬場・中野・吉祥寺</td>\n",
       "      <td> 0325b7df2461cc47c4a46c2eb6e73dae</td>\n",
       "      <td> 43fc18f32eafb05713ec02935e2c2825</td>\n",
       "      <td> 09411858ae07c0be91aeeddacf4556b4</td>\n",
       "    </tr>\n",
       "    <tr>\n",
       "      <th>22</th>\n",
       "      <td> 1</td>\n",
       "      <td> 2011-07-12 21:26:25</td>\n",
       "      <td>      赤坂・六本木・麻布</td>\n",
       "      <td> 6236509d170335ddac913622eb1be627</td>\n",
       "      <td> dc6df8aa860f8db0d710ce9d4839840f</td>\n",
       "      <td> 05f44676bd11c9f124c4a777c237d37f</td>\n",
       "    </tr>\n",
       "    <tr>\n",
       "      <th>23</th>\n",
       "      <td> 1</td>\n",
       "      <td> 2011-08-02 10:27:13</td>\n",
       "      <td>      赤坂・六本木・麻布</td>\n",
       "      <td> 4032e8b84605e88a7013e24c2e0c6ee1</td>\n",
       "      <td> dc6df8aa860f8db0d710ce9d4839840f</td>\n",
       "      <td> dba06f247ef3de4110017849d6e6535b</td>\n",
       "    </tr>\n",
       "    <tr>\n",
       "      <th>24</th>\n",
       "      <td> 2</td>\n",
       "      <td> 2011-08-15 00:20:04</td>\n",
       "      <td>      恵比寿・目黒・品川</td>\n",
       "      <td> 5e2891fa2e1ae43204b94970bdb6a413</td>\n",
       "      <td> dc6df8aa860f8db0d710ce9d4839840f</td>\n",
       "      <td> 85b51e105d6faba453d30cd1504e0488</td>\n",
       "    </tr>\n",
       "  </tbody>\n",
       "</table>\n",
       "</div>"
      ],
      "text/plain": [
       "    ITEM_COUNT               I_DATE SMALL_AREA_NAME                   PURCHASEID_hash                      USER_ID_hash                    COUPON_ID_hash\n",
       "20           1  2012-05-21 19:41:41  新宿・高田馬場・中野・吉祥寺  e47445e2f58d7e9c052aa05a75bf3cdd  43fc18f32eafb05713ec02935e2c2825  bf69bd9e0e26fa1f62243d1fcada38f1\n",
       "21           1  2012-06-04 21:39:42  新宿・高田馬場・中野・吉祥寺  0325b7df2461cc47c4a46c2eb6e73dae  43fc18f32eafb05713ec02935e2c2825  09411858ae07c0be91aeeddacf4556b4\n",
       "22           1  2011-07-12 21:26:25       赤坂・六本木・麻布  6236509d170335ddac913622eb1be627  dc6df8aa860f8db0d710ce9d4839840f  05f44676bd11c9f124c4a777c237d37f\n",
       "23           1  2011-08-02 10:27:13       赤坂・六本木・麻布  4032e8b84605e88a7013e24c2e0c6ee1  dc6df8aa860f8db0d710ce9d4839840f  dba06f247ef3de4110017849d6e6535b\n",
       "24           2  2011-08-15 00:20:04       恵比寿・目黒・品川  5e2891fa2e1ae43204b94970bdb6a413  dc6df8aa860f8db0d710ce9d4839840f  85b51e105d6faba453d30cd1504e0488"
      ]
     },
     "execution_count": 24,
     "metadata": {},
     "output_type": "execute_result"
    }
   ],
   "source": [
    "coupon_detail_train[20:25]"
   ]
  },
  {
   "cell_type": "code",
   "execution_count": 6,
   "metadata": {
    "collapsed": true
   },
   "outputs": [],
   "source": [
    "coupon_list_text = pd.read_sql(\"SELECT * FROM coupon_list_test_translated\", conn)"
   ]
  },
  {
   "cell_type": "code",
   "execution_count": 7,
   "metadata": {
    "collapsed": false
   },
   "outputs": [
    {
     "data": {
      "text/html": [
       "<div style=\"max-height:1000px;max-width:1500px;overflow:auto;\">\n",
       "<table border=\"1\" class=\"dataframe\">\n",
       "  <thead>\n",
       "    <tr style=\"text-align: right;\">\n",
       "      <th></th>\n",
       "      <th>CAPSULE_TEXT</th>\n",
       "      <th>GENRE_NAME</th>\n",
       "      <th>PRICE_RATE</th>\n",
       "      <th>CATALOG_PRICE</th>\n",
       "      <th>DISCOUNT_PRICE</th>\n",
       "      <th>DISPFROM</th>\n",
       "      <th>DISPEND</th>\n",
       "      <th>DISPPERIOD</th>\n",
       "      <th>VALIDFROM</th>\n",
       "      <th>VALIDEND</th>\n",
       "      <th>VALIDPERIOD</th>\n",
       "      <th>USABLE_DATE_MON</th>\n",
       "      <th>USABLE_DATE_TUE</th>\n",
       "      <th>USABLE_DATE_WED</th>\n",
       "      <th>USABLE_DATE_THU</th>\n",
       "      <th>USABLE_DATE_FRI</th>\n",
       "      <th>USABLE_DATE_SAT</th>\n",
       "      <th>USABLE_DATE_SUN</th>\n",
       "      <th>USABLE_DATE_HOLIDAY</th>\n",
       "      <th>USABLE_DATE_BEFORE_HOLIDAY</th>\n",
       "      <th>large_area_name</th>\n",
       "      <th>ken_name</th>\n",
       "      <th>small_area_name</th>\n",
       "      <th>COUPON_ID_hash</th>\n",
       "    </tr>\n",
       "  </thead>\n",
       "  <tbody>\n",
       "    <tr>\n",
       "      <th>0</th>\n",
       "      <td> Food</td>\n",
       "      <td> Food</td>\n",
       "      <td> 52</td>\n",
       "      <td>  5659</td>\n",
       "      <td> 2690</td>\n",
       "      <td> 2012-06-26 12:00:00</td>\n",
       "      <td> 2012-06-30 12:00:00</td>\n",
       "      <td> 4</td>\n",
       "      <td> 2012-07-01</td>\n",
       "      <td> 2012-10-27</td>\n",
       "      <td> 118.0</td>\n",
       "      <td> 1.0</td>\n",
       "      <td> 1.0</td>\n",
       "      <td> 1.0</td>\n",
       "      <td> 1.0</td>\n",
       "      <td> 1.0</td>\n",
       "      <td> 1.0</td>\n",
       "      <td> 1.0</td>\n",
       "      <td> 1.0</td>\n",
       "      <td> 1.0</td>\n",
       "      <td> ??</td>\n",
       "      <td>  ???</td>\n",
       "      <td>        ????</td>\n",
       "      <td> c76ea297ebd3a5a4d3bf9f75269f66fa</td>\n",
       "    </tr>\n",
       "    <tr>\n",
       "      <th>1</th>\n",
       "      <td> Food</td>\n",
       "      <td> Food</td>\n",
       "      <td> 52</td>\n",
       "      <td> 18000</td>\n",
       "      <td> 8500</td>\n",
       "      <td> 2012-06-27 12:00:00</td>\n",
       "      <td> 2012-07-04 12:00:00</td>\n",
       "      <td> 7</td>\n",
       "      <td> 2012-07-05</td>\n",
       "      <td> 2012-10-13</td>\n",
       "      <td> 100.0</td>\n",
       "      <td> 1.0</td>\n",
       "      <td> 1.0</td>\n",
       "      <td> 1.0</td>\n",
       "      <td> 1.0</td>\n",
       "      <td> 1.0</td>\n",
       "      <td> 1.0</td>\n",
       "      <td> 0.0</td>\n",
       "      <td> 0.0</td>\n",
       "      <td> 1.0</td>\n",
       "      <td> ??</td>\n",
       "      <td>  ???</td>\n",
       "      <td> ???????????</td>\n",
       "      <td> dd74dc95ca294afa02db40a543ae1763</td>\n",
       "    </tr>\n",
       "    <tr>\n",
       "      <th>2</th>\n",
       "      <td> Food</td>\n",
       "      <td> Food</td>\n",
       "      <td> 51</td>\n",
       "      <td>  7200</td>\n",
       "      <td> 3480</td>\n",
       "      <td> 2012-06-28 12:00:00</td>\n",
       "      <td> 2012-07-05 12:00:00</td>\n",
       "      <td> 7</td>\n",
       "      <td> 2012-07-06</td>\n",
       "      <td> 2012-12-28</td>\n",
       "      <td> 175.0</td>\n",
       "      <td> 1.0</td>\n",
       "      <td> 1.0</td>\n",
       "      <td> 1.0</td>\n",
       "      <td> 1.0</td>\n",
       "      <td> 1.0</td>\n",
       "      <td> 1.0</td>\n",
       "      <td> 1.0</td>\n",
       "      <td> 1.0</td>\n",
       "      <td> 1.0</td>\n",
       "      <td> ??</td>\n",
       "      <td> ????</td>\n",
       "      <td>          ??</td>\n",
       "      <td> c65b550cbef918796ad53b1d5b7165c1</td>\n",
       "    </tr>\n",
       "    <tr>\n",
       "      <th>3</th>\n",
       "      <td> Food</td>\n",
       "      <td> Food</td>\n",
       "      <td> 50</td>\n",
       "      <td>  3300</td>\n",
       "      <td> 1650</td>\n",
       "      <td> 2012-06-24 12:00:00</td>\n",
       "      <td> 2012-06-29 12:00:00</td>\n",
       "      <td> 5</td>\n",
       "      <td> 2012-06-30</td>\n",
       "      <td> 2012-10-31</td>\n",
       "      <td> 123.0</td>\n",
       "      <td> 1.0</td>\n",
       "      <td> 1.0</td>\n",
       "      <td> 1.0</td>\n",
       "      <td> 1.0</td>\n",
       "      <td> 2.0</td>\n",
       "      <td> 2.0</td>\n",
       "      <td> 1.0</td>\n",
       "      <td> 1.0</td>\n",
       "      <td> 2.0</td>\n",
       "      <td> ??</td>\n",
       "      <td>  ???</td>\n",
       "      <td>          ??</td>\n",
       "      <td> f93dc6e223935d817e1237f8f73b56a2</td>\n",
       "    </tr>\n",
       "    <tr>\n",
       "      <th>4</th>\n",
       "      <td> Food</td>\n",
       "      <td> Food</td>\n",
       "      <td> 56</td>\n",
       "      <td>  3650</td>\n",
       "      <td> 1600</td>\n",
       "      <td> 2012-06-26 12:00:00</td>\n",
       "      <td> 2012-07-03 12:00:00</td>\n",
       "      <td> 7</td>\n",
       "      <td> 2012-07-04</td>\n",
       "      <td> 2012-11-10</td>\n",
       "      <td> 129.0</td>\n",
       "      <td> 1.0</td>\n",
       "      <td> 1.0</td>\n",
       "      <td> 1.0</td>\n",
       "      <td> 1.0</td>\n",
       "      <td> 1.0</td>\n",
       "      <td> 1.0</td>\n",
       "      <td> 1.0</td>\n",
       "      <td> 1.0</td>\n",
       "      <td> 1.0</td>\n",
       "      <td> ??</td>\n",
       "      <td>  ???</td>\n",
       "      <td>          ??</td>\n",
       "      <td> 86c64391318f1d751647bf8e1882cf1d</td>\n",
       "    </tr>\n",
       "  </tbody>\n",
       "</table>\n",
       "</div>"
      ],
      "text/plain": [
       "  CAPSULE_TEXT GENRE_NAME PRICE_RATE CATALOG_PRICE DISCOUNT_PRICE             DISPFROM              DISPEND DISPPERIOD   VALIDFROM    VALIDEND VALIDPERIOD USABLE_DATE_MON USABLE_DATE_TUE USABLE_DATE_WED USABLE_DATE_THU USABLE_DATE_FRI USABLE_DATE_SAT USABLE_DATE_SUN USABLE_DATE_HOLIDAY USABLE_DATE_BEFORE_HOLIDAY large_area_name ken_name small_area_name                    COUPON_ID_hash\n",
       "0         Food       Food         52          5659           2690  2012-06-26 12:00:00  2012-06-30 12:00:00          4  2012-07-01  2012-10-27       118.0             1.0             1.0             1.0             1.0             1.0             1.0             1.0                 1.0                        1.0              ??      ???            ????  c76ea297ebd3a5a4d3bf9f75269f66fa\n",
       "1         Food       Food         52         18000           8500  2012-06-27 12:00:00  2012-07-04 12:00:00          7  2012-07-05  2012-10-13       100.0             1.0             1.0             1.0             1.0             1.0             1.0             0.0                 0.0                        1.0              ??      ???     ???????????  dd74dc95ca294afa02db40a543ae1763\n",
       "2         Food       Food         51          7200           3480  2012-06-28 12:00:00  2012-07-05 12:00:00          7  2012-07-06  2012-12-28       175.0             1.0             1.0             1.0             1.0             1.0             1.0             1.0                 1.0                        1.0              ??     ????              ??  c65b550cbef918796ad53b1d5b7165c1\n",
       "3         Food       Food         50          3300           1650  2012-06-24 12:00:00  2012-06-29 12:00:00          5  2012-06-30  2012-10-31       123.0             1.0             1.0             1.0             1.0             2.0             2.0             1.0                 1.0                        2.0              ??      ???              ??  f93dc6e223935d817e1237f8f73b56a2\n",
       "4         Food       Food         56          3650           1600  2012-06-26 12:00:00  2012-07-03 12:00:00          7  2012-07-04  2012-11-10       129.0             1.0             1.0             1.0             1.0             1.0             1.0             1.0                 1.0                        1.0              ??      ???              ??  86c64391318f1d751647bf8e1882cf1d"
      ]
     },
     "execution_count": 7,
     "metadata": {},
     "output_type": "execute_result"
    }
   ],
   "source": [
    "coupon_list_text.head()"
   ]
  },
  {
   "cell_type": "code",
   "execution_count": null,
   "metadata": {
    "collapsed": true
   },
   "outputs": [],
   "source": [
    "#Let's make a graph that shows amount of coupons by each category"
   ]
  },
  {
   "cell_type": "code",
   "execution_count": 11,
   "metadata": {
    "collapsed": false
   },
   "outputs": [],
   "source": [
    "#SQL version \n",
    "genre_count = pd.read_sql('SELECT GENRE_NAME, COUNT(GENRE_NAME) FROM coupon_list_test_translated GROUP BY GENRE_NAME', conn)"
   ]
  },
  {
   "cell_type": "code",
   "execution_count": 12,
   "metadata": {
    "collapsed": false
   },
   "outputs": [
    {
     "data": {
      "text/html": [
       "<div style=\"max-height:1000px;max-width:1500px;overflow:auto;\">\n",
       "<table border=\"1\" class=\"dataframe\">\n",
       "  <thead>\n",
       "    <tr style=\"text-align: right;\">\n",
       "      <th></th>\n",
       "      <th>GENRE_NAME</th>\n",
       "      <th>COUNT(GENRE_NAME)</th>\n",
       "    </tr>\n",
       "  </thead>\n",
       "  <tbody>\n",
       "    <tr>\n",
       "      <th>0</th>\n",
       "      <td>   Delivery service</td>\n",
       "      <td> 89</td>\n",
       "    </tr>\n",
       "    <tr>\n",
       "      <th>1</th>\n",
       "      <td>               Food</td>\n",
       "      <td> 55</td>\n",
       "    </tr>\n",
       "    <tr>\n",
       "      <th>2</th>\n",
       "      <td>          Gift card</td>\n",
       "      <td>  1</td>\n",
       "    </tr>\n",
       "    <tr>\n",
       "      <th>3</th>\n",
       "      <td>         Hair salon</td>\n",
       "      <td> 25</td>\n",
       "    </tr>\n",
       "    <tr>\n",
       "      <th>4</th>\n",
       "      <td> Health and medical</td>\n",
       "      <td>  4</td>\n",
       "    </tr>\n",
       "  </tbody>\n",
       "</table>\n",
       "</div>"
      ],
      "text/plain": [
       "           GENRE_NAME  COUNT(GENRE_NAME)\n",
       "0    Delivery service                 89\n",
       "1                Food                 55\n",
       "2           Gift card                  1\n",
       "3          Hair salon                 25\n",
       "4  Health and medical                  4"
      ]
     },
     "execution_count": 12,
     "metadata": {},
     "output_type": "execute_result"
    }
   ],
   "source": [
    "genre_count.head()"
   ]
  },
  {
   "cell_type": "code",
   "execution_count": 23,
   "metadata": {
    "collapsed": false
   },
   "outputs": [],
   "source": [
    "#pandas version\n",
    "genre_count = coupon_list_text.groupby('GENRE_NAME').agg({'CAPSULE_TEXT' : 'count'}).reset_index()"
   ]
  },
  {
   "cell_type": "code",
   "execution_count": 37,
   "metadata": {
    "collapsed": false
   },
   "outputs": [
    {
     "data": {
      "text/html": [
       "<div style=\"max-height:1000px;max-width:1500px;overflow:auto;\">\n",
       "<table border=\"1\" class=\"dataframe\">\n",
       "  <thead>\n",
       "    <tr style=\"text-align: right;\">\n",
       "      <th></th>\n",
       "      <th>GENRE_NAME</th>\n",
       "      <th>CAPSULE_TEXT</th>\n",
       "    </tr>\n",
       "  </thead>\n",
       "  <tbody>\n",
       "    <tr>\n",
       "      <th>0 </th>\n",
       "      <td>         Delivery service</td>\n",
       "      <td> 89</td>\n",
       "    </tr>\n",
       "    <tr>\n",
       "      <th>1 </th>\n",
       "      <td>                     Food</td>\n",
       "      <td> 55</td>\n",
       "    </tr>\n",
       "    <tr>\n",
       "      <th>2 </th>\n",
       "      <td>                Gift card</td>\n",
       "      <td>  1</td>\n",
       "    </tr>\n",
       "    <tr>\n",
       "      <th>3 </th>\n",
       "      <td>               Hair salon</td>\n",
       "      <td> 25</td>\n",
       "    </tr>\n",
       "    <tr>\n",
       "      <th>4 </th>\n",
       "      <td>       Health and medical</td>\n",
       "      <td>  4</td>\n",
       "    </tr>\n",
       "    <tr>\n",
       "      <th>5 </th>\n",
       "      <td> Hotel and Japanese hotel</td>\n",
       "      <td> 59</td>\n",
       "    </tr>\n",
       "    <tr>\n",
       "      <th>6 </th>\n",
       "      <td>                  Leisure</td>\n",
       "      <td> 11</td>\n",
       "    </tr>\n",
       "    <tr>\n",
       "      <th>7 </th>\n",
       "      <td>                   Lesson</td>\n",
       "      <td> 13</td>\n",
       "    </tr>\n",
       "    <tr>\n",
       "      <th>8 </th>\n",
       "      <td>       Nail and eye salon</td>\n",
       "      <td> 17</td>\n",
       "    </tr>\n",
       "    <tr>\n",
       "      <th>9 </th>\n",
       "      <td>             Other coupon</td>\n",
       "      <td>  6</td>\n",
       "    </tr>\n",
       "    <tr>\n",
       "      <th>10</th>\n",
       "      <td>               Relaxation</td>\n",
       "      <td> 21</td>\n",
       "    </tr>\n",
       "    <tr>\n",
       "      <th>11</th>\n",
       "      <td>                      Spa</td>\n",
       "      <td>  9</td>\n",
       "    </tr>\n",
       "  </tbody>\n",
       "</table>\n",
       "</div>"
      ],
      "text/plain": [
       "                  GENRE_NAME  CAPSULE_TEXT\n",
       "0           Delivery service            89\n",
       "1                       Food            55\n",
       "2                  Gift card             1\n",
       "3                 Hair salon            25\n",
       "4         Health and medical             4\n",
       "5   Hotel and Japanese hotel            59\n",
       "6                    Leisure            11\n",
       "7                     Lesson            13\n",
       "8         Nail and eye salon            17\n",
       "9               Other coupon             6\n",
       "10                Relaxation            21\n",
       "11                       Spa             9"
      ]
     },
     "execution_count": 37,
     "metadata": {},
     "output_type": "execute_result"
    }
   ],
   "source": [
    "genre_count.head(15)"
   ]
  },
  {
   "cell_type": "code",
   "execution_count": 68,
   "metadata": {
    "collapsed": false
   },
   "outputs": [
    {
     "data": {
      "text/plain": [
       "[]"
      ]
     },
     "execution_count": 68,
     "metadata": {},
     "output_type": "execute_result"
    },
    {
     "data": {
      "image/png": "[encoded data removed]",
      "text/plain": [
       "<matplotlib.figure.Figure at 0x79133f0>"
      ]
     },
     "metadata": {},
     "output_type": "display_data"
    }
   ],
   "source": [
    "ax = genre_count.plot(kind = 'bar')\n",
    "ax.set_xticklabels(list(genre_count.GENRE_NAME.values))\n",
    "plt.plot()"
   ]
  },
  {
   "cell_type": "code",
   "execution_count": 63,
   "metadata": {
    "collapsed": false
   },
   "outputs": [
    {
     "data": {
      "text/plain": [
       "[array(['Delivery service', 'Food', 'Gift card', 'Hair salon',\n",
       "        'Health and medical', 'Hotel and Japanese hotel', 'Leisure',\n",
       "        'Lesson', 'Nail and eye salon', 'Other coupon', 'Relaxation', 'Spa'], dtype=object)]"
      ]
     },
     "execution_count": 63,
     "metadata": {},
     "output_type": "execute_result"
    }
   ],
   "source": [
    "[genre_count.GENRE_NAME.values]"
   ]
  },
  {
   "cell_type": "code",
   "execution_count": null,
   "metadata": {
    "collapsed": true
   },
   "outputs": [],
   "source": [
    "#Let's find out average discount by each genre"
   ]
  },
  {
   "cell_type": "code",
   "execution_count": 71,
   "metadata": {
    "collapsed": false
   },
   "outputs": [],
   "source": [
    "genre_discount = pd.read_sql('SELECT GENRE_NAME, AVG(PRICE_RATE) from coupon_list_test_translated GROUP BY GENRE_NAME', conn)"
   ]
  },
  {
   "cell_type": "code",
   "execution_count": 74,
   "metadata": {
    "collapsed": false
   },
   "outputs": [
    {
     "data": {
      "text/html": [
       "<div style=\"max-height:1000px;max-width:1500px;overflow:auto;\">\n",
       "<table border=\"1\" class=\"dataframe\">\n",
       "  <thead>\n",
       "    <tr style=\"text-align: right;\">\n",
       "      <th></th>\n",
       "      <th>GENRE_NAME</th>\n",
       "      <th>AVG(PRICE_RATE)</th>\n",
       "    </tr>\n",
       "  </thead>\n",
       "  <tbody>\n",
       "    <tr>\n",
       "      <th>0 </th>\n",
       "      <td>         Delivery service</td>\n",
       "      <td> 61.191011</td>\n",
       "    </tr>\n",
       "    <tr>\n",
       "      <th>1 </th>\n",
       "      <td>                     Food</td>\n",
       "      <td> 53.800000</td>\n",
       "    </tr>\n",
       "    <tr>\n",
       "      <th>2 </th>\n",
       "      <td>                Gift card</td>\n",
       "      <td> 80.000000</td>\n",
       "    </tr>\n",
       "    <tr>\n",
       "      <th>3 </th>\n",
       "      <td>               Hair salon</td>\n",
       "      <td> 71.080000</td>\n",
       "    </tr>\n",
       "    <tr>\n",
       "      <th>4 </th>\n",
       "      <td>       Health and medical</td>\n",
       "      <td> 62.750000</td>\n",
       "    </tr>\n",
       "    <tr>\n",
       "      <th>5 </th>\n",
       "      <td> Hotel and Japanese hotel</td>\n",
       "      <td> 53.169492</td>\n",
       "    </tr>\n",
       "    <tr>\n",
       "      <th>6 </th>\n",
       "      <td>                  Leisure</td>\n",
       "      <td> 53.636364</td>\n",
       "    </tr>\n",
       "    <tr>\n",
       "      <th>7 </th>\n",
       "      <td>                   Lesson</td>\n",
       "      <td> 71.461538</td>\n",
       "    </tr>\n",
       "    <tr>\n",
       "      <th>8 </th>\n",
       "      <td>       Nail and eye salon</td>\n",
       "      <td> 66.294118</td>\n",
       "    </tr>\n",
       "    <tr>\n",
       "      <th>9 </th>\n",
       "      <td>             Other coupon</td>\n",
       "      <td> 75.333333</td>\n",
       "    </tr>\n",
       "    <tr>\n",
       "      <th>10</th>\n",
       "      <td>               Relaxation</td>\n",
       "      <td> 62.809524</td>\n",
       "    </tr>\n",
       "    <tr>\n",
       "      <th>11</th>\n",
       "      <td>                      Spa</td>\n",
       "      <td> 80.000000</td>\n",
       "    </tr>\n",
       "  </tbody>\n",
       "</table>\n",
       "</div>"
      ],
      "text/plain": [
       "                  GENRE_NAME  AVG(PRICE_RATE)\n",
       "0           Delivery service        61.191011\n",
       "1                       Food        53.800000\n",
       "2                  Gift card        80.000000\n",
       "3                 Hair salon        71.080000\n",
       "4         Health and medical        62.750000\n",
       "5   Hotel and Japanese hotel        53.169492\n",
       "6                    Leisure        53.636364\n",
       "7                     Lesson        71.461538\n",
       "8         Nail and eye salon        66.294118\n",
       "9               Other coupon        75.333333\n",
       "10                Relaxation        62.809524\n",
       "11                       Spa        80.000000"
      ]
     },
     "execution_count": 74,
     "metadata": {},
     "output_type": "execute_result"
    }
   ],
   "source": [
    "genre_discount[:]"
   ]
  },
  {
   "cell_type": "code",
   "execution_count": 78,
   "metadata": {
    "collapsed": false
   },
   "outputs": [
    {
     "data": {
      "text/plain": [
       "[]"
      ]
     },
     "execution_count": 78,
     "metadata": {},
     "output_type": "execute_result"
    },
    {
     "data": {
      "image/png": "[encoded data removed]",
      "text/plain": [
       "<matplotlib.figure.Figure at 0x79d37d0>"
      ]
     },
     "metadata": {},
     "output_type": "display_data"
    }
   ],
   "source": [
    "ax = genre_discount.plot(kind = 'bar')\n",
    "\n",
    "ax.set_xticklabels(list(genre_count.GENRE_NAME.values))\n",
    "plt.plot()"
   ]
  },
  {
   "cell_type": "code",
   "execution_count": 94,
   "metadata": {
    "collapsed": false
   },
   "outputs": [],
   "source": [
    "#Let's see which coupons are the most popular\n",
    "view = pd.read_sql(\"SELECT GENRE_NAME, AVG(a.PURCHASE_FLG) FROM coupon_visit_train a JOIN coupon_list_train_translated b ON a.VIEW_COUPON_ID_hash = b.COUPON_ID_hash GROUP BY GENRE_NAME\", conn)"
   ]
  },
  {
   "cell_type": "code",
   "execution_count": 95,
   "metadata": {
    "collapsed": false
   },
   "outputs": [
    {
     "data": {
      "text/html": [
       "<div style=\"max-height:1000px;max-width:1500px;overflow:auto;\">\n",
       "<table border=\"1\" class=\"dataframe\">\n",
       "  <thead>\n",
       "    <tr style=\"text-align: right;\">\n",
       "      <th></th>\n",
       "      <th>GENRE_NAME</th>\n",
       "      <th>AVG(a.PURCHASE_FLG)</th>\n",
       "    </tr>\n",
       "  </thead>\n",
       "  <tbody>\n",
       "    <tr>\n",
       "      <th>0 </th>\n",
       "      <td>                   Beauty</td>\n",
       "      <td> 0.042403</td>\n",
       "    </tr>\n",
       "    <tr>\n",
       "      <th>1 </th>\n",
       "      <td>         Delivery service</td>\n",
       "      <td> 0.063110</td>\n",
       "    </tr>\n",
       "    <tr>\n",
       "      <th>2 </th>\n",
       "      <td>                     Food</td>\n",
       "      <td> 0.040233</td>\n",
       "    </tr>\n",
       "    <tr>\n",
       "      <th>3 </th>\n",
       "      <td>                Gift card</td>\n",
       "      <td> 0.088388</td>\n",
       "    </tr>\n",
       "    <tr>\n",
       "      <th>4 </th>\n",
       "      <td>               Hair salon</td>\n",
       "      <td> 0.049894</td>\n",
       "    </tr>\n",
       "    <tr>\n",
       "      <th>5 </th>\n",
       "      <td>       Health and medical</td>\n",
       "      <td> 0.054269</td>\n",
       "    </tr>\n",
       "    <tr>\n",
       "      <th>6 </th>\n",
       "      <td> Hotel and Japanese hotel</td>\n",
       "      <td> 0.020301</td>\n",
       "    </tr>\n",
       "    <tr>\n",
       "      <th>7 </th>\n",
       "      <td>                  Leisure</td>\n",
       "      <td> 0.059735</td>\n",
       "    </tr>\n",
       "    <tr>\n",
       "      <th>8 </th>\n",
       "      <td>                   Lesson</td>\n",
       "      <td> 0.036375</td>\n",
       "    </tr>\n",
       "    <tr>\n",
       "      <th>9 </th>\n",
       "      <td>       Nail and eye salon</td>\n",
       "      <td> 0.042804</td>\n",
       "    </tr>\n",
       "    <tr>\n",
       "      <th>10</th>\n",
       "      <td>             Other coupon</td>\n",
       "      <td> 0.099012</td>\n",
       "    </tr>\n",
       "    <tr>\n",
       "      <th>11</th>\n",
       "      <td>               Relaxation</td>\n",
       "      <td> 0.047233</td>\n",
       "    </tr>\n",
       "    <tr>\n",
       "      <th>12</th>\n",
       "      <td>                      Spa</td>\n",
       "      <td> 0.048692</td>\n",
       "    </tr>\n",
       "  </tbody>\n",
       "</table>\n",
       "</div>"
      ],
      "text/plain": [
       "                  GENRE_NAME  AVG(a.PURCHASE_FLG)\n",
       "0                     Beauty             0.042403\n",
       "1           Delivery service             0.063110\n",
       "2                       Food             0.040233\n",
       "3                  Gift card             0.088388\n",
       "4                 Hair salon             0.049894\n",
       "5         Health and medical             0.054269\n",
       "6   Hotel and Japanese hotel             0.020301\n",
       "7                    Leisure             0.059735\n",
       "8                     Lesson             0.036375\n",
       "9         Nail and eye salon             0.042804\n",
       "10              Other coupon             0.099012\n",
       "11                Relaxation             0.047233\n",
       "12                       Spa             0.048692"
      ]
     },
     "execution_count": 95,
     "metadata": {},
     "output_type": "execute_result"
    }
   ],
   "source": [
    "view[:]"
   ]
  },
  {
   "cell_type": "code",
   "execution_count": 98,
   "metadata": {
    "collapsed": false
   },
   "outputs": [
    {
     "data": {
      "image/png": "[encoded data removed]",
      "text/plain": [
       "<matplotlib.figure.Figure at 0x1b60aff0>"
      ]
     },
     "metadata": {},
     "output_type": "display_data"
    }
   ],
   "source": [
    "ax = view.plot(kind='bar')\n",
    "\n",
    "ax.set_xticklabels(list(view.GENRE_NAME.values))\n",
    "plt.show()"
   ]
  },
  {
   "cell_type": "code",
   "execution_count": 57,
   "metadata": {
    "collapsed": false
   },
   "outputs": [
    {
     "ename": "TypeError",
     "evalue": "not all arguments converted during string formatting",
     "output_type": "error",
     "traceback": [
      "\u001b[1;31m---------------------------------------------------------------------------\u001b[0m",
      "\u001b[1;31mTypeError\u001b[0m                                 Traceback (most recent call last)",
      "\u001b[1;32m<ipython-input-57-d04b5aaeb948>\u001b[0m in \u001b[0;36m<module>\u001b[1;34m()\u001b[0m\n\u001b[0;32m      1\u001b[0m \u001b[1;31m#Let's see who is the most successful referrer\u001b[0m\u001b[1;33m\u001b[0m\u001b[1;33m\u001b[0m\u001b[0m\n\u001b[1;32m----> 2\u001b[1;33m \u001b[0mref\u001b[0m \u001b[1;33m=\u001b[0m \u001b[0mpd\u001b[0m\u001b[1;33m.\u001b[0m\u001b[0mread_sql\u001b[0m\u001b[1;33m(\u001b[0m\u001b[1;34m'select REFERRER_hash, avg(PURCHASE_FLG), COUNT(PURCHASE_FLG), COUNT(CASE WHEN PURCHASE_FLG LIKE '\u001b[0m\u001b[1;33m%\u001b[0m\u001b[1;36m1\u001b[0m\u001b[1;33m%\u001b[0m\u001b[1;34m' THEN 1 ELSE NULL END) from coupon_visit_train group by REFERRER_hash ORDER BY avg(PURCHASE_FLG) DESC'\u001b[0m\u001b[1;33m,\u001b[0m \u001b[0mconn\u001b[0m\u001b[1;33m)\u001b[0m\u001b[1;33m\u001b[0m\u001b[0m\n\u001b[0m",
      "\u001b[1;31mTypeError\u001b[0m: not all arguments converted during string formatting"
     ]
    }
   ],
   "source": [
    "#Let's see who is the most successful referrer\n",
    "ref = pd.read_sql('select REFERRER_hash, avg(PURCHASE_FLG), COUNT(PURCHASE_FLG), COUNT(CASE WHEN PURCHASE_FLG LIKE '%1%' THEN 1 ELSE NULL END) from coupon_visit_train group by REFERRER_hash ORDER BY avg(PURCHASE_FLG) DESC', conn)"
   ]
  },
  {
   "cell_type": "code",
   "execution_count": 42,
   "metadata": {
    "collapsed": false
   },
   "outputs": [
    {
     "data": {
      "text/html": [
       "<div style=\"max-height:1000px;max-width:1500px;overflow:auto;\">\n",
       "<table border=\"1\" class=\"dataframe\">\n",
       "  <thead>\n",
       "    <tr style=\"text-align: right;\">\n",
       "      <th></th>\n",
       "      <th>REFERRER_hash</th>\n",
       "      <th>avg(PURCHASE_FLG)</th>\n",
       "      <th>COUNT(PURCHASE_FLG)</th>\n",
       "      <th>COUNT(CASE WHEN PURCHASE_FLG &gt;= 1000 THEN 1 ELSE NULL END)</th>\n",
       "    </tr>\n",
       "  </thead>\n",
       "  <tbody>\n",
       "    <tr>\n",
       "      <th>0</th>\n",
       "      <td> 6c5616ced18d79fa5a97c5c8f3e65f8f</td>\n",
       "      <td> 1.000000</td>\n",
       "      <td>  112544</td>\n",
       "      <td>  112544</td>\n",
       "    </tr>\n",
       "    <tr>\n",
       "      <th>1</th>\n",
       "      <td> 878034ded0ee2297d7ce27c5169e8584</td>\n",
       "      <td> 1.000000</td>\n",
       "      <td>    9830</td>\n",
       "      <td>    9830</td>\n",
       "    </tr>\n",
       "    <tr>\n",
       "      <th>2</th>\n",
       "      <td> 6810d0ccfc8d7b817ae5ce734c507c07</td>\n",
       "      <td> 0.000101</td>\n",
       "      <td>    9948</td>\n",
       "      <td>    9948</td>\n",
       "    </tr>\n",
       "    <tr>\n",
       "      <th>3</th>\n",
       "      <td> 7d3892e54acb559ae36c459978489330</td>\n",
       "      <td> 0.000011</td>\n",
       "      <td> 1261367</td>\n",
       "      <td> 1261367</td>\n",
       "    </tr>\n",
       "    <tr>\n",
       "      <th>4</th>\n",
       "      <td> 000021db05f2313080fd34d6697a2ad8</td>\n",
       "      <td> 0.000000</td>\n",
       "      <td>       1</td>\n",
       "      <td>       1</td>\n",
       "    </tr>\n",
       "    <tr>\n",
       "      <th>5</th>\n",
       "      <td> 0002b8d02ce53f9e8c496b1eefb11204</td>\n",
       "      <td> 0.000000</td>\n",
       "      <td>       3</td>\n",
       "      <td>       3</td>\n",
       "    </tr>\n",
       "    <tr>\n",
       "      <th>6</th>\n",
       "      <td> 0002c1d2d732c18d37d40de5559f46d2</td>\n",
       "      <td> 0.000000</td>\n",
       "      <td>       3</td>\n",
       "      <td>       3</td>\n",
       "    </tr>\n",
       "    <tr>\n",
       "      <th>7</th>\n",
       "      <td> 00032e2a09f98b5dc77a7a8aa28a2abf</td>\n",
       "      <td> 0.000000</td>\n",
       "      <td>       2</td>\n",
       "      <td>       2</td>\n",
       "    </tr>\n",
       "    <tr>\n",
       "      <th>8</th>\n",
       "      <td> 000393f24574d132f9f4cf6eef2400ee</td>\n",
       "      <td> 0.000000</td>\n",
       "      <td>       9</td>\n",
       "      <td>       9</td>\n",
       "    </tr>\n",
       "    <tr>\n",
       "      <th>9</th>\n",
       "      <td> 00058514d38324c1b2af6676cb3061aa</td>\n",
       "      <td> 0.000000</td>\n",
       "      <td>       8</td>\n",
       "      <td>       8</td>\n",
       "    </tr>\n",
       "  </tbody>\n",
       "</table>\n",
       "</div>"
      ],
      "text/plain": [
       "                      REFERRER_hash  avg(PURCHASE_FLG)  COUNT(PURCHASE_FLG)  COUNT(CASE WHEN PURCHASE_FLG >= 1000 THEN 1 ELSE NULL END)\n",
       "0  6c5616ced18d79fa5a97c5c8f3e65f8f           1.000000               112544                                             112544         \n",
       "1  878034ded0ee2297d7ce27c5169e8584           1.000000                 9830                                               9830         \n",
       "2  6810d0ccfc8d7b817ae5ce734c507c07           0.000101                 9948                                               9948         \n",
       "3  7d3892e54acb559ae36c459978489330           0.000011              1261367                                            1261367         \n",
       "4  000021db05f2313080fd34d6697a2ad8           0.000000                    1                                                  1         \n",
       "5  0002b8d02ce53f9e8c496b1eefb11204           0.000000                    3                                                  3         \n",
       "6  0002c1d2d732c18d37d40de5559f46d2           0.000000                    3                                                  3         \n",
       "7  00032e2a09f98b5dc77a7a8aa28a2abf           0.000000                    2                                                  2         \n",
       "8  000393f24574d132f9f4cf6eef2400ee           0.000000                    9                                                  9         \n",
       "9  00058514d38324c1b2af6676cb3061aa           0.000000                    8                                                  8         "
      ]
     },
     "execution_count": 42,
     "metadata": {},
     "output_type": "execute_result"
    }
   ],
   "source": [
    "#This is strange\n",
    "ref.head(10)"
   ]
  },
  {
   "cell_type": "code",
   "execution_count": 55,
   "metadata": {
    "collapsed": false
   },
   "outputs": [],
   "source": [
    "test = pd.read_sql('SELECT purchase_flg from coupon_visit_train where purchase_flg LIKE \"%1\"', conn)"
   ]
  },
  {
   "cell_type": "code",
   "execution_count": 56,
   "metadata": {
    "collapsed": false
   },
   "outputs": [
    {
     "data": {
      "text/plain": [
       "(122389, 1)"
      ]
     },
     "execution_count": 56,
     "metadata": {},
     "output_type": "execute_result"
    }
   ],
   "source": [
    "test.shape"
   ]
  },
  {
   "cell_type": "code",
   "execution_count": 3,
   "metadata": {
    "collapsed": false
   },
   "outputs": [],
   "source": [
    "coupon_visit_train = pd.read_sql('SELECT * FROM coupon_visit_train', conn)"
   ]
  },
  {
   "cell_type": "code",
   "execution_count": 4,
   "metadata": {
    "collapsed": true
   },
   "outputs": [],
   "source": [
    "coupon_visit_train.PURCHASE_FLG = [int(i) for i in coupon_visit_train.PURCHASE_FLG.values]"
   ]
  },
  {
   "cell_type": "code",
   "execution_count": 5,
   "metadata": {
    "collapsed": false
   },
   "outputs": [
    {
     "data": {
      "text/html": [
       "<div style=\"max-height:1000px;max-width:1500px;overflow:auto;\">\n",
       "<table border=\"1\" class=\"dataframe\">\n",
       "  <thead>\n",
       "    <tr style=\"text-align: right;\">\n",
       "      <th></th>\n",
       "      <th>PURCHASE_FLG</th>\n",
       "      <th>I_DATE</th>\n",
       "      <th>PAGE_SERIAL</th>\n",
       "      <th>REFERRER_hash</th>\n",
       "      <th>VIEW_COUPON_ID_hash</th>\n",
       "      <th>USER_ID_hash</th>\n",
       "      <th>SESSION_ID_hash</th>\n",
       "      <th>PURCHASEID_hash</th>\n",
       "    </tr>\n",
       "  </thead>\n",
       "  <tbody>\n",
       "    <tr>\n",
       "      <th>0</th>\n",
       "      <td> 0</td>\n",
       "      <td> 2012-03-28 14:15:00</td>\n",
       "      <td>  7</td>\n",
       "      <td> 7d3892e54acb559ae36c459978489330</td>\n",
       "      <td> 34c48f84026e08355dc3bd19b427f09a</td>\n",
       "      <td> d9dca3cb44bab12ba313eaa681f663eb</td>\n",
       "      <td> 673af822615593249e7c6a9a1a6bbb1a</td>\n",
       "      <td> </td>\n",
       "    </tr>\n",
       "    <tr>\n",
       "      <th>1</th>\n",
       "      <td> 0</td>\n",
       "      <td> 2012-03-28 14:17:28</td>\n",
       "      <td>  9</td>\n",
       "      <td> 7d3892e54acb559ae36c459978489330</td>\n",
       "      <td> 34c48f84026e08355dc3bd19b427f09a</td>\n",
       "      <td> d9dca3cb44bab12ba313eaa681f663eb</td>\n",
       "      <td> 673af822615593249e7c6a9a1a6bbb1a</td>\n",
       "      <td> </td>\n",
       "    </tr>\n",
       "    <tr>\n",
       "      <th>2</th>\n",
       "      <td> 0</td>\n",
       "      <td> 2012-03-28 14:20:05</td>\n",
       "      <td> 16</td>\n",
       "      <td> 7d3892e54acb559ae36c459978489330</td>\n",
       "      <td> 17c450c3b470c045d35ec22b02daa690</td>\n",
       "      <td> d9dca3cb44bab12ba313eaa681f663eb</td>\n",
       "      <td> 673af822615593249e7c6a9a1a6bbb1a</td>\n",
       "      <td> </td>\n",
       "    </tr>\n",
       "    <tr>\n",
       "      <th>3</th>\n",
       "      <td> 0</td>\n",
       "      <td> 2012-03-28 14:23:16</td>\n",
       "      <td> 18</td>\n",
       "      <td> 7d3892e54acb559ae36c459978489330</td>\n",
       "      <td> 91a15e6a95d09e5e01b50747833b317d</td>\n",
       "      <td> d9dca3cb44bab12ba313eaa681f663eb</td>\n",
       "      <td> 673af822615593249e7c6a9a1a6bbb1a</td>\n",
       "      <td> </td>\n",
       "    </tr>\n",
       "    <tr>\n",
       "      <th>4</th>\n",
       "      <td> 0</td>\n",
       "      <td> 2012-03-28 14:26:25</td>\n",
       "      <td> 20</td>\n",
       "      <td> 7d3892e54acb559ae36c459978489330</td>\n",
       "      <td> 96fcbc8f6e45d5a2de1661eb140c6e82</td>\n",
       "      <td> d9dca3cb44bab12ba313eaa681f663eb</td>\n",
       "      <td> 673af822615593249e7c6a9a1a6bbb1a</td>\n",
       "      <td> </td>\n",
       "    </tr>\n",
       "  </tbody>\n",
       "</table>\n",
       "</div>"
      ],
      "text/plain": [
       "   PURCHASE_FLG               I_DATE PAGE_SERIAL                     REFERRER_hash               VIEW_COUPON_ID_hash                      USER_ID_hash                   SESSION_ID_hash PURCHASEID_hash\n",
       "0             0  2012-03-28 14:15:00           7  7d3892e54acb559ae36c459978489330  34c48f84026e08355dc3bd19b427f09a  d9dca3cb44bab12ba313eaa681f663eb  673af822615593249e7c6a9a1a6bbb1a                \n",
       "1             0  2012-03-28 14:17:28           9  7d3892e54acb559ae36c459978489330  34c48f84026e08355dc3bd19b427f09a  d9dca3cb44bab12ba313eaa681f663eb  673af822615593249e7c6a9a1a6bbb1a                \n",
       "2             0  2012-03-28 14:20:05          16  7d3892e54acb559ae36c459978489330  17c450c3b470c045d35ec22b02daa690  d9dca3cb44bab12ba313eaa681f663eb  673af822615593249e7c6a9a1a6bbb1a                \n",
       "3             0  2012-03-28 14:23:16          18  7d3892e54acb559ae36c459978489330  91a15e6a95d09e5e01b50747833b317d  d9dca3cb44bab12ba313eaa681f663eb  673af822615593249e7c6a9a1a6bbb1a                \n",
       "4             0  2012-03-28 14:26:25          20  7d3892e54acb559ae36c459978489330  96fcbc8f6e45d5a2de1661eb140c6e82  d9dca3cb44bab12ba313eaa681f663eb  673af822615593249e7c6a9a1a6bbb1a                "
      ]
     },
     "execution_count": 5,
     "metadata": {},
     "output_type": "execute_result"
    }
   ],
   "source": [
    "coupon_visit_train.head()"
   ]
  },
  {
   "cell_type": "code",
   "execution_count": 38,
   "metadata": {
    "collapsed": false
   },
   "outputs": [],
   "source": [
    "coupon_visit_train = pd.read_sql('select user_id_hash, sum(purchase_flg) from coupon_visit_train GROUP BY user_id_hash order by sum(purchase_flg) desc', conn)"
   ]
  },
  {
   "cell_type": "code",
   "execution_count": 39,
   "metadata": {
    "collapsed": false
   },
   "outputs": [
    {
     "data": {
      "text/html": [
       "<div style=\"max-height:1000px;max-width:1500px;overflow:auto;\">\n",
       "<table border=\"1\" class=\"dataframe\">\n",
       "  <thead>\n",
       "    <tr style=\"text-align: right;\">\n",
       "      <th></th>\n",
       "      <th>USER_ID_hash</th>\n",
       "      <th>sum(purchase_flg)</th>\n",
       "    </tr>\n",
       "  </thead>\n",
       "  <tbody>\n",
       "    <tr>\n",
       "      <th>0</th>\n",
       "      <td> 332842367488a861f1d53d928393143a</td>\n",
       "      <td> 104</td>\n",
       "    </tr>\n",
       "    <tr>\n",
       "      <th>1</th>\n",
       "      <td> acd5e20541a5177e039835cef949d38d</td>\n",
       "      <td> 100</td>\n",
       "    </tr>\n",
       "    <tr>\n",
       "      <th>2</th>\n",
       "      <td> 2f3eee0e00feb2020d5a4e99e31adfba</td>\n",
       "      <td>  88</td>\n",
       "    </tr>\n",
       "    <tr>\n",
       "      <th>3</th>\n",
       "      <td> 9e3ac24ea566eb7d12a78c7f2cd94f66</td>\n",
       "      <td>  87</td>\n",
       "    </tr>\n",
       "    <tr>\n",
       "      <th>4</th>\n",
       "      <td> 4c20177df5716ba57105ba5d9ed3c460</td>\n",
       "      <td>  85</td>\n",
       "    </tr>\n",
       "  </tbody>\n",
       "</table>\n",
       "</div>"
      ],
      "text/plain": [
       "                       USER_ID_hash  sum(purchase_flg)\n",
       "0  332842367488a861f1d53d928393143a                104\n",
       "1  acd5e20541a5177e039835cef949d38d                100\n",
       "2  2f3eee0e00feb2020d5a4e99e31adfba                 88\n",
       "3  9e3ac24ea566eb7d12a78c7f2cd94f66                 87\n",
       "4  4c20177df5716ba57105ba5d9ed3c460                 85"
      ]
     },
     "execution_count": 39,
     "metadata": {},
     "output_type": "execute_result"
    }
   ],
   "source": [
    "coupon_visit_train.head()"
   ]
  },
  {
   "cell_type": "code",
   "execution_count": 45,
   "metadata": {
    "collapsed": false
   },
   "outputs": [],
   "source": [
    "a = pd.read_sql('SELECT COUNT(DISTINCT(VIEW_COUPON_ID_hash)) from coupon_visit_train', conn)"
   ]
  },
  {
   "cell_type": "code",
   "execution_count": 46,
   "metadata": {
    "collapsed": false
   },
   "outputs": [
    {
     "data": {
      "text/html": [
       "<div style=\"max-height:1000px;max-width:1500px;overflow:auto;\">\n",
       "<table border=\"1\" class=\"dataframe\">\n",
       "  <thead>\n",
       "    <tr style=\"text-align: right;\">\n",
       "      <th></th>\n",
       "      <th>COUNT(DISTINCT(VIEW_COUPON_ID_hash))</th>\n",
       "    </tr>\n",
       "  </thead>\n",
       "  <tbody>\n",
       "    <tr>\n",
       "      <th>0</th>\n",
       "      <td> 32628</td>\n",
       "    </tr>\n",
       "  </tbody>\n",
       "</table>\n",
       "</div>"
      ],
      "text/plain": [
       "   COUNT(DISTINCT(VIEW_COUPON_ID_hash))\n",
       "0                                 32628"
      ]
     },
     "execution_count": 46,
     "metadata": {},
     "output_type": "execute_result"
    }
   ],
   "source": [
    "a.head()"
   ]
  },
  {
   "cell_type": "code",
   "execution_count": 70,
   "metadata": {
    "collapsed": false
   },
   "outputs": [],
   "source": [
    "def variance(a):\n",
    "    mean = sum(a)/len(a)\n",
    "    return sum([(i - mean)**2 for i in a])/len(a)\n",
    "\n",
    "def std_dev(a):\n",
    "    return variance(a)**0.5\n",
    "a = [1,2,3,4,5,6,7]\n",
    "\n",
    "x = [i * 10 for i in range(1,11)]\n",
    "m = [a+[i] for i in x]\n",
    "y = [variance(i) for i in m]\n",
    "z = [std_dev(i) for i in m]"
   ]
  },
  {
   "cell_type": "code",
   "execution_count": 72,
   "metadata": {
    "collapsed": false
   },
   "outputs": [
    {
     "data": {
      "image/png": "[encoded data removed]",
      "text/plain": [
       "<matplotlib.figure.Figure at 0x48643ef0>"
      ]
     },
     "metadata": {},
     "output_type": "display_data"
    }
   ],
   "source": [
    "plt.plot(x,z)\n",
    "plt.plot(x,y)\n",
    "plt.show()"
   ]
  },
  {
   "cell_type": "code",
   "execution_count": 75,
   "metadata": {
    "collapsed": false
   },
   "outputs": [
    {
     "data": {
      "text/plain": [
       "<sqlite3.Cursor at 0x2d0fe60>"
      ]
     },
     "execution_count": 75,
     "metadata": {},
     "output_type": "execute_result"
    }
   ],
   "source": [
    "cur.execute('SELECT coupon.GENRE_NAME, SUM(log.PURCHASE_FLG), coupon.DISCOUNT_PRICE, SUM(log.PURCHASE_FLG)*coupon.DISCOUNT_PRICE FROM coupon_list_train coupon JOIN coupon_visit_train log ON log.VIEW_COUPON_ID_hash = coupon.COUPON_ID_hash WHERE log.PURCHASE_FLG=1 GROUP BY coupon.GENRE_NAME')"
   ]
  },
  {
   "cell_type": "code",
   "execution_count": 106,
   "metadata": {
    "collapsed": true
   },
   "outputs": [],
   "source": [
    "a  = pd.read_sql('SELECT coupon.GENRE_NAME, SUM(log.PURCHASE_FLG), AVG(coupon.DISCOUNT_PRICE), SUM(log.PURCHASE_FLG)*coupon.DISCOUNT_PRICE AS REVENUE FROM coupon_list_train_translated coupon JOIN coupon_visit_train log ON log.VIEW_COUPON_ID_hash = coupon.COUPON_ID_hash WHERE log.PURCHASE_FLG LIKE \"%1%\" GROUP BY coupon.GENRE_NAME', conn)"
   ]
  },
  {
   "cell_type": "code",
   "execution_count": 107,
   "metadata": {
    "collapsed": false
   },
   "outputs": [
    {
     "data": {
      "text/html": [
       "<div style=\"max-height:1000px;max-width:1500px;overflow:auto;\">\n",
       "<table border=\"1\" class=\"dataframe\">\n",
       "  <thead>\n",
       "    <tr style=\"text-align: right;\">\n",
       "      <th></th>\n",
       "      <th>GENRE_NAME</th>\n",
       "      <th>SUM(log.PURCHASE_FLG)</th>\n",
       "      <th>AVG(coupon.DISCOUNT_PRICE)</th>\n",
       "      <th>REVENUE</th>\n",
       "    </tr>\n",
       "  </thead>\n",
       "  <tbody>\n",
       "    <tr>\n",
       "      <th>0 </th>\n",
       "      <td>                   Beauty</td>\n",
       "      <td>    84</td>\n",
       "      <td>  4146.964286</td>\n",
       "      <td>   250320</td>\n",
       "    </tr>\n",
       "    <tr>\n",
       "      <th>1 </th>\n",
       "      <td>         Delivery service</td>\n",
       "      <td> 45499</td>\n",
       "      <td>  1963.068067</td>\n",
       "      <td> 76438320</td>\n",
       "    </tr>\n",
       "    <tr>\n",
       "      <th>2 </th>\n",
       "      <td>                     Food</td>\n",
       "      <td> 26631</td>\n",
       "      <td>  1900.752169</td>\n",
       "      <td> 26098380</td>\n",
       "    </tr>\n",
       "    <tr>\n",
       "      <th>3 </th>\n",
       "      <td>                Gift card</td>\n",
       "      <td>  6493</td>\n",
       "      <td>   509.281380</td>\n",
       "      <td> 12986000</td>\n",
       "    </tr>\n",
       "    <tr>\n",
       "      <th>4 </th>\n",
       "      <td>               Hair salon</td>\n",
       "      <td>  2498</td>\n",
       "      <td>  4138.481986</td>\n",
       "      <td> 11490800</td>\n",
       "    </tr>\n",
       "    <tr>\n",
       "      <th>5 </th>\n",
       "      <td>       Health and medical</td>\n",
       "      <td>   164</td>\n",
       "      <td> 11831.402439</td>\n",
       "      <td>   861000</td>\n",
       "    </tr>\n",
       "    <tr>\n",
       "      <th>6 </th>\n",
       "      <td> Hotel and Japanese hotel</td>\n",
       "      <td> 12314</td>\n",
       "      <td>  8774.029641</td>\n",
       "      <td> 36695720</td>\n",
       "    </tr>\n",
       "    <tr>\n",
       "      <th>7 </th>\n",
       "      <td>                  Leisure</td>\n",
       "      <td>  5066</td>\n",
       "      <td>  1418.941966</td>\n",
       "      <td> 12462360</td>\n",
       "    </tr>\n",
       "    <tr>\n",
       "      <th>8 </th>\n",
       "      <td>                   Lesson</td>\n",
       "      <td>  1018</td>\n",
       "      <td> 11855.969548</td>\n",
       "      <td> 20156400</td>\n",
       "    </tr>\n",
       "    <tr>\n",
       "      <th>9 </th>\n",
       "      <td>       Nail and eye salon</td>\n",
       "      <td>  1198</td>\n",
       "      <td>  3260.039232</td>\n",
       "      <td>  3773700</td>\n",
       "    </tr>\n",
       "    <tr>\n",
       "      <th>10</th>\n",
       "      <td>             Other coupon</td>\n",
       "      <td> 17534</td>\n",
       "      <td>   646.183985</td>\n",
       "      <td>  1753400</td>\n",
       "    </tr>\n",
       "    <tr>\n",
       "      <th>11</th>\n",
       "      <td>               Relaxation</td>\n",
       "      <td>  2338</td>\n",
       "      <td>  3259.004705</td>\n",
       "      <td>  6312600</td>\n",
       "    </tr>\n",
       "    <tr>\n",
       "      <th>12</th>\n",
       "      <td>                      Spa</td>\n",
       "      <td>  1552</td>\n",
       "      <td>  3465.781572</td>\n",
       "      <td>  3072960</td>\n",
       "    </tr>\n",
       "  </tbody>\n",
       "</table>\n",
       "</div>"
      ],
      "text/plain": [
       "                  GENRE_NAME  SUM(log.PURCHASE_FLG)  AVG(coupon.DISCOUNT_PRICE)   REVENUE\n",
       "0                     Beauty                     84                 4146.964286    250320\n",
       "1           Delivery service                  45499                 1963.068067  76438320\n",
       "2                       Food                  26631                 1900.752169  26098380\n",
       "3                  Gift card                   6493                  509.281380  12986000\n",
       "4                 Hair salon                   2498                 4138.481986  11490800\n",
       "5         Health and medical                    164                11831.402439    861000\n",
       "6   Hotel and Japanese hotel                  12314                 8774.029641  36695720\n",
       "7                    Leisure                   5066                 1418.941966  12462360\n",
       "8                     Lesson                   1018                11855.969548  20156400\n",
       "9         Nail and eye salon                   1198                 3260.039232   3773700\n",
       "10              Other coupon                  17534                  646.183985   1753400\n",
       "11                Relaxation                   2338                 3259.004705   6312600\n",
       "12                       Spa                   1552                 3465.781572   3072960"
      ]
     },
     "execution_count": 107,
     "metadata": {},
     "output_type": "execute_result"
    }
   ],
   "source": [
    "a[:]"
   ]
  },
  {
   "cell_type": "code",
   "execution_count": 93,
   "metadata": {
    "collapsed": false
   },
   "outputs": [
    {
     "data": {
      "text/plain": [
       "[]"
      ]
     },
     "execution_count": 93,
     "metadata": {},
     "output_type": "execute_result"
    },
    {
     "data": {
      "image/png": "[encoded data removed]",
      "text/plain": [
       "<matplotlib.figure.Figure at 0x51983af0>"
      ]
     },
     "metadata": {},
     "output_type": "display_data"
    }
   ],
   "source": [
    "\n",
    "\n",
    "ax = a[['GENRE_NAME', 'REVENUE']].plot(kind = 'bar')\n",
    "\n",
    "ax.set_xticklabels(list(a[['GENRE_NAME', 'REVENUE']].GENRE_NAME.values))\n",
    "plt.plot()"
   ]
  },
  {
   "cell_type": "code",
   "execution_count": 105,
   "metadata": {
    "collapsed": false
   },
   "outputs": [
    {
     "data": {
      "text/html": [
       "<div style=\"max-height:1000px;max-width:1500px;overflow:auto;\">\n",
       "<table border=\"1\" class=\"dataframe\">\n",
       "  <thead>\n",
       "    <tr style=\"text-align: right;\">\n",
       "      <th></th>\n",
       "      <th>SEX_ID</th>\n",
       "      <th>COUNT(SEX_ID)</th>\n",
       "    </tr>\n",
       "  </thead>\n",
       "  <tbody>\n",
       "    <tr>\n",
       "      <th>0</th>\n",
       "      <td> 0</td>\n",
       "      <td> 11890</td>\n",
       "    </tr>\n",
       "    <tr>\n",
       "      <th>1</th>\n",
       "      <td> 1</td>\n",
       "      <td> 10983</td>\n",
       "    </tr>\n",
       "  </tbody>\n",
       "</table>\n",
       "</div>"
      ],
      "text/plain": [
       "   SEX_ID  COUNT(SEX_ID)\n",
       "0       0          11890\n",
       "1       1          10983"
      ]
     },
     "execution_count": 105,
     "metadata": {},
     "output_type": "execute_result"
    }
   ],
   "source": [
    "pd.read_sql('SELECT SEX_ID, COUNT(SEX_ID) FROM user_list GROUP BY SEX_ID',conn) "
   ]
  },
  {
   "cell_type": "code",
   "execution_count": 119,
   "metadata": {
    "collapsed": false
   },
   "outputs": [],
   "source": [
    "a  = pd.read_sql('SELECT coupon.GENRE_NAME, user.SEX_ID, SUM(log.PURCHASE_FLG) AS REVENUE FROM coupon_list_train_translated coupon JOIN coupon_visit_train log ON log.VIEW_COUPON_ID_hash = coupon.COUPON_ID_hash JOIN user_list user ON log.USER_ID_hash = user.USER_ID_hash WHERE log.PURCHASE_FLG LIKE \"%1%\" GROUP BY coupon.GENRE_NAME, user.SEX_ID', conn)"
   ]
  },
  {
   "cell_type": "code",
   "execution_count": 120,
   "metadata": {
    "collapsed": false
   },
   "outputs": [
    {
     "data": {
      "text/html": [
       "<div style=\"max-height:1000px;max-width:1500px;overflow:auto;\">\n",
       "<table border=\"1\" class=\"dataframe\">\n",
       "  <thead>\n",
       "    <tr style=\"text-align: right;\">\n",
       "      <th></th>\n",
       "      <th>GENRE_NAME</th>\n",
       "      <th>SEX_ID</th>\n",
       "      <th>REVENUE</th>\n",
       "    </tr>\n",
       "  </thead>\n",
       "  <tbody>\n",
       "    <tr>\n",
       "      <th>0 </th>\n",
       "      <td>                   Beauty</td>\n",
       "      <td> 0</td>\n",
       "      <td>    12</td>\n",
       "    </tr>\n",
       "    <tr>\n",
       "      <th>1 </th>\n",
       "      <td>                   Beauty</td>\n",
       "      <td> 1</td>\n",
       "      <td>    72</td>\n",
       "    </tr>\n",
       "    <tr>\n",
       "      <th>2 </th>\n",
       "      <td>         Delivery service</td>\n",
       "      <td> 0</td>\n",
       "      <td> 18242</td>\n",
       "    </tr>\n",
       "    <tr>\n",
       "      <th>3 </th>\n",
       "      <td>         Delivery service</td>\n",
       "      <td> 1</td>\n",
       "      <td> 27257</td>\n",
       "    </tr>\n",
       "    <tr>\n",
       "      <th>4 </th>\n",
       "      <td>                     Food</td>\n",
       "      <td> 0</td>\n",
       "      <td> 15237</td>\n",
       "    </tr>\n",
       "    <tr>\n",
       "      <th>5 </th>\n",
       "      <td>                     Food</td>\n",
       "      <td> 1</td>\n",
       "      <td> 11394</td>\n",
       "    </tr>\n",
       "    <tr>\n",
       "      <th>6 </th>\n",
       "      <td>                Gift card</td>\n",
       "      <td> 0</td>\n",
       "      <td>  3243</td>\n",
       "    </tr>\n",
       "    <tr>\n",
       "      <th>7 </th>\n",
       "      <td>                Gift card</td>\n",
       "      <td> 1</td>\n",
       "      <td>  3250</td>\n",
       "    </tr>\n",
       "    <tr>\n",
       "      <th>8 </th>\n",
       "      <td>               Hair salon</td>\n",
       "      <td> 0</td>\n",
       "      <td>   372</td>\n",
       "    </tr>\n",
       "    <tr>\n",
       "      <th>9 </th>\n",
       "      <td>               Hair salon</td>\n",
       "      <td> 1</td>\n",
       "      <td>  2126</td>\n",
       "    </tr>\n",
       "    <tr>\n",
       "      <th>10</th>\n",
       "      <td>       Health and medical</td>\n",
       "      <td> 0</td>\n",
       "      <td>    52</td>\n",
       "    </tr>\n",
       "    <tr>\n",
       "      <th>11</th>\n",
       "      <td>       Health and medical</td>\n",
       "      <td> 1</td>\n",
       "      <td>   112</td>\n",
       "    </tr>\n",
       "    <tr>\n",
       "      <th>12</th>\n",
       "      <td> Hotel and Japanese hotel</td>\n",
       "      <td> 0</td>\n",
       "      <td>  7628</td>\n",
       "    </tr>\n",
       "    <tr>\n",
       "      <th>13</th>\n",
       "      <td> Hotel and Japanese hotel</td>\n",
       "      <td> 1</td>\n",
       "      <td>  4686</td>\n",
       "    </tr>\n",
       "    <tr>\n",
       "      <th>14</th>\n",
       "      <td>                  Leisure</td>\n",
       "      <td> 0</td>\n",
       "      <td>  2824</td>\n",
       "    </tr>\n",
       "    <tr>\n",
       "      <th>15</th>\n",
       "      <td>                  Leisure</td>\n",
       "      <td> 1</td>\n",
       "      <td>  2242</td>\n",
       "    </tr>\n",
       "    <tr>\n",
       "      <th>16</th>\n",
       "      <td>                   Lesson</td>\n",
       "      <td> 0</td>\n",
       "      <td>   290</td>\n",
       "    </tr>\n",
       "    <tr>\n",
       "      <th>17</th>\n",
       "      <td>                   Lesson</td>\n",
       "      <td> 1</td>\n",
       "      <td>   728</td>\n",
       "    </tr>\n",
       "    <tr>\n",
       "      <th>18</th>\n",
       "      <td>       Nail and eye salon</td>\n",
       "      <td> 0</td>\n",
       "      <td>    40</td>\n",
       "    </tr>\n",
       "    <tr>\n",
       "      <th>19</th>\n",
       "      <td>       Nail and eye salon</td>\n",
       "      <td> 1</td>\n",
       "      <td>  1158</td>\n",
       "    </tr>\n",
       "    <tr>\n",
       "      <th>20</th>\n",
       "      <td>             Other coupon</td>\n",
       "      <td> 0</td>\n",
       "      <td>  8425</td>\n",
       "    </tr>\n",
       "    <tr>\n",
       "      <th>21</th>\n",
       "      <td>             Other coupon</td>\n",
       "      <td> 1</td>\n",
       "      <td>  9109</td>\n",
       "    </tr>\n",
       "    <tr>\n",
       "      <th>22</th>\n",
       "      <td>               Relaxation</td>\n",
       "      <td> 0</td>\n",
       "      <td>   720</td>\n",
       "    </tr>\n",
       "    <tr>\n",
       "      <th>23</th>\n",
       "      <td>               Relaxation</td>\n",
       "      <td> 1</td>\n",
       "      <td>  1618</td>\n",
       "    </tr>\n",
       "    <tr>\n",
       "      <th>24</th>\n",
       "      <td>                      Spa</td>\n",
       "      <td> 0</td>\n",
       "      <td>   192</td>\n",
       "    </tr>\n",
       "    <tr>\n",
       "      <th>25</th>\n",
       "      <td>                      Spa</td>\n",
       "      <td> 1</td>\n",
       "      <td>  1360</td>\n",
       "    </tr>\n",
       "  </tbody>\n",
       "</table>\n",
       "</div>"
      ],
      "text/plain": [
       "                  GENRE_NAME  SEX_ID  REVENUE\n",
       "0                     Beauty       0       12\n",
       "1                     Beauty       1       72\n",
       "2           Delivery service       0    18242\n",
       "3           Delivery service       1    27257\n",
       "4                       Food       0    15237\n",
       "5                       Food       1    11394\n",
       "6                  Gift card       0     3243\n",
       "7                  Gift card       1     3250\n",
       "8                 Hair salon       0      372\n",
       "9                 Hair salon       1     2126\n",
       "10        Health and medical       0       52\n",
       "11        Health and medical       1      112\n",
       "12  Hotel and Japanese hotel       0     7628\n",
       "13  Hotel and Japanese hotel       1     4686\n",
       "14                   Leisure       0     2824\n",
       "15                   Leisure       1     2242\n",
       "16                    Lesson       0      290\n",
       "17                    Lesson       1      728\n",
       "18        Nail and eye salon       0       40\n",
       "19        Nail and eye salon       1     1158\n",
       "20              Other coupon       0     8425\n",
       "21              Other coupon       1     9109\n",
       "22                Relaxation       0      720\n",
       "23                Relaxation       1     1618\n",
       "24                       Spa       0      192\n",
       "25                       Spa       1     1360"
      ]
     },
     "execution_count": 120,
     "metadata": {},
     "output_type": "execute_result"
    }
   ],
   "source": [
    "a[:]"
   ]
  },
  {
   "cell_type": "code",
   "execution_count": 115,
   "metadata": {
    "collapsed": true
   },
   "outputs": [],
   "source": [
    "b  = pd.read_sql('SELECT coupon.GENRE_NAME, SUM(log.PURCHASE_FLG), AVG(coupon.DISCOUNT_PRICE), SUM(log.PURCHASE_FLG)*coupon.DISCOUNT_PRICE AS REVENUE FROM coupon_list_train_translated coupon JOIN coupon_visit_train log ON log.VIEW_COUPON_ID_hash = coupon.COUPON_ID_hash JOIN user_list user ON log.USER_ID_hash = user.USER_ID_hash WHERE log.PURCHASE_FLG LIKE \"%1%\" and user.SEX_ID = 1 GROUP BY coupon.GENRE_NAME', conn)"
   ]
  },
  {
   "cell_type": "code",
   "execution_count": 116,
   "metadata": {
    "collapsed": false
   },
   "outputs": [
    {
     "data": {
      "text/html": [
       "<div style=\"max-height:1000px;max-width:1500px;overflow:auto;\">\n",
       "<table border=\"1\" class=\"dataframe\">\n",
       "  <thead>\n",
       "    <tr style=\"text-align: right;\">\n",
       "      <th></th>\n",
       "      <th>GENRE_NAME</th>\n",
       "      <th>SUM(log.PURCHASE_FLG)</th>\n",
       "      <th>AVG(coupon.DISCOUNT_PRICE)</th>\n",
       "      <th>REVENUE</th>\n",
       "    </tr>\n",
       "  </thead>\n",
       "  <tbody>\n",
       "    <tr>\n",
       "      <th>0 </th>\n",
       "      <td>                   Beauty</td>\n",
       "      <td>    72</td>\n",
       "      <td>  4313.819444</td>\n",
       "      <td>   216000</td>\n",
       "    </tr>\n",
       "    <tr>\n",
       "      <th>1 </th>\n",
       "      <td>         Delivery service</td>\n",
       "      <td> 27257</td>\n",
       "      <td>  1919.226327</td>\n",
       "      <td> 27229743</td>\n",
       "    </tr>\n",
       "    <tr>\n",
       "      <th>2 </th>\n",
       "      <td>                     Food</td>\n",
       "      <td> 11394</td>\n",
       "      <td>  1810.825083</td>\n",
       "      <td> 19939500</td>\n",
       "    </tr>\n",
       "    <tr>\n",
       "      <th>3 </th>\n",
       "      <td>                Gift card</td>\n",
       "      <td>  3250</td>\n",
       "      <td>   512.550462</td>\n",
       "      <td>  6500000</td>\n",
       "    </tr>\n",
       "    <tr>\n",
       "      <th>4 </th>\n",
       "      <td>               Hair salon</td>\n",
       "      <td>  2126</td>\n",
       "      <td>  4176.610066</td>\n",
       "      <td>  6335480</td>\n",
       "    </tr>\n",
       "    <tr>\n",
       "      <th>5 </th>\n",
       "      <td>       Health and medical</td>\n",
       "      <td>   112</td>\n",
       "      <td> 10239.821429</td>\n",
       "      <td>  1555680</td>\n",
       "    </tr>\n",
       "    <tr>\n",
       "      <th>6 </th>\n",
       "      <td> Hotel and Japanese hotel</td>\n",
       "      <td>  4686</td>\n",
       "      <td>  9062.195689</td>\n",
       "      <td> 45922800</td>\n",
       "    </tr>\n",
       "    <tr>\n",
       "      <th>7 </th>\n",
       "      <td>                  Leisure</td>\n",
       "      <td>  2242</td>\n",
       "      <td>  1447.339429</td>\n",
       "      <td>  1121000</td>\n",
       "    </tr>\n",
       "    <tr>\n",
       "      <th>8 </th>\n",
       "      <td>                   Lesson</td>\n",
       "      <td>   728</td>\n",
       "      <td> 12865.276099</td>\n",
       "      <td> 14487200</td>\n",
       "    </tr>\n",
       "    <tr>\n",
       "      <th>9 </th>\n",
       "      <td>       Nail and eye salon</td>\n",
       "      <td>  1158</td>\n",
       "      <td>  3265.204663</td>\n",
       "      <td>  3450840</td>\n",
       "    </tr>\n",
       "    <tr>\n",
       "      <th>10</th>\n",
       "      <td>             Other coupon</td>\n",
       "      <td>  9109</td>\n",
       "      <td>   718.206170</td>\n",
       "      <td> 10839710</td>\n",
       "    </tr>\n",
       "    <tr>\n",
       "      <th>11</th>\n",
       "      <td>               Relaxation</td>\n",
       "      <td>  1618</td>\n",
       "      <td>  3338.847342</td>\n",
       "      <td>  1618000</td>\n",
       "    </tr>\n",
       "    <tr>\n",
       "      <th>12</th>\n",
       "      <td>                      Spa</td>\n",
       "      <td>  1360</td>\n",
       "      <td>  3480.658088</td>\n",
       "      <td>  2692800</td>\n",
       "    </tr>\n",
       "  </tbody>\n",
       "</table>\n",
       "</div>"
      ],
      "text/plain": [
       "                  GENRE_NAME  SUM(log.PURCHASE_FLG)  AVG(coupon.DISCOUNT_PRICE)   REVENUE\n",
       "0                     Beauty                     72                 4313.819444    216000\n",
       "1           Delivery service                  27257                 1919.226327  27229743\n",
       "2                       Food                  11394                 1810.825083  19939500\n",
       "3                  Gift card                   3250                  512.550462   6500000\n",
       "4                 Hair salon                   2126                 4176.610066   6335480\n",
       "5         Health and medical                    112                10239.821429   1555680\n",
       "6   Hotel and Japanese hotel                   4686                 9062.195689  45922800\n",
       "7                    Leisure                   2242                 1447.339429   1121000\n",
       "8                     Lesson                    728                12865.276099  14487200\n",
       "9         Nail and eye salon                   1158                 3265.204663   3450840\n",
       "10              Other coupon                   9109                  718.206170  10839710\n",
       "11                Relaxation                   1618                 3338.847342   1618000\n",
       "12                       Spa                   1360                 3480.658088   2692800"
      ]
     },
     "execution_count": 116,
     "metadata": {},
     "output_type": "execute_result"
    }
   ],
   "source": [
    "b[:]"
   ]
  },
  {
   "cell_type": "code",
   "execution_count": 127,
   "metadata": {
    "collapsed": false
   },
   "outputs": [
    {
     "data": {
      "text/plain": [
       "0.026315789473684213"
      ]
     },
     "execution_count": 127,
     "metadata": {},
     "output_type": "execute_result"
    }
   ],
   "source": [
    "0.02*0.98/(0.02*0.98+0.98*0.74)"
   ]
  }
 ],
 "metadata": {
  "kernelspec": {
   "display_name": "Python 3",
   "language": "python",
   "name": "python3"
  },
  "language_info": {
   "codemirror_mode": {
    "name": "ipython",
    "version": 3
   },
   "file_extension": ".py",
   "mimetype": "text/x-python",
   "name": "python",
   "nbconvert_exporter": "python",
   "pygments_lexer": "ipython3",
   "version": "3.4.1"
  }
 },
 "nbformat": 4,
 "nbformat_minor": 0
}
